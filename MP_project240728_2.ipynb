{
  "nbformat": 4,
  "nbformat_minor": 0,
  "metadata": {
    "colab": {
      "provenance": [],
      "machine_shape": "hm",
      "gpuType": "L4",
      "mount_file_id": "1tv28mBjsrpdR-rnoWwtfOhfph92Pgw8v",
      "authorship_tag": "ABX9TyM+H/5fkWaqmEbbR3Cz7Yrt",
      "include_colab_link": true
    },
    "kernelspec": {
      "name": "python3",
      "display_name": "Python 3"
    },
    "language_info": {
      "name": "python"
    },
    "accelerator": "GPU"
  },
  "cells": [
    {
      "cell_type": "markdown",
      "metadata": {
        "id": "view-in-github",
        "colab_type": "text"
      },
      "source": [
        "<a href=\"https://colab.research.google.com/github/jinmedi/MT_project/blob/main/MP_project240728_2.ipynb\" target=\"_parent\"><img src=\"https://colab.research.google.com/assets/colab-badge.svg\" alt=\"Open In Colab\"/></a>"
      ]
    },
    {
      "source": [
        "from google.colab import drive\n",
        "drive.mount('/content/drive')"
      ],
      "cell_type": "code",
      "metadata": {
        "colab": {
          "base_uri": "https://localhost:8080/"
        },
        "id": "xj3MJsGYrHta",
        "outputId": "af09a9c8-33d6-4c1c-843e-9af1d3fd34f2"
      },
      "execution_count": 2,
      "outputs": [
        {
          "output_type": "stream",
          "name": "stdout",
          "text": [
            "Drive already mounted at /content/drive; to attempt to forcibly remount, call drive.mount(\"/content/drive\", force_remount=True).\n"
          ]
        }
      ]
    },
    {
      "cell_type": "markdown",
      "source": [
        "내시경 이미지 부분만 크롭"
      ],
      "metadata": {
        "id": "aU3SIyAg08fv"
      }
    },
    {
      "cell_type": "code",
      "source": [
        "import cv2\n",
        "import numpy as np\n",
        "import os\n",
        "\n",
        "def detect_and_crop_color_image(image_path, padding=10):\n",
        "    # Read the image\n",
        "    img = cv2.imread(image_path)\n",
        "    if img is None:\n",
        "        print(f\"Error: Unable to read image at {image_path}\")\n",
        "        return None\n",
        "\n",
        "    # Convert to HSV color space\n",
        "    hsv = cv2.cvtColor(img, cv2.COLOR_BGR2HSV)\n",
        "\n",
        "    # Define range for high saturation colors\n",
        "    lower_sat = np.array([0, 50, 50])\n",
        "    upper_sat = np.array([179, 255, 255])\n",
        "\n",
        "    # Threshold the HSV image to get only high saturation colors\n",
        "    mask = cv2.inRange(hsv, lower_sat, upper_sat)\n",
        "\n",
        "    # Perform morphological operations to remove noise\n",
        "    kernel = np.ones((5,5), np.uint8)\n",
        "    mask = cv2.morphologyEx(mask, cv2.MORPH_CLOSE, kernel)\n",
        "    mask = cv2.morphologyEx(mask, cv2.MORPH_OPEN, kernel)\n",
        "\n",
        "    # Find contours in the mask\n",
        "    contours, _ = cv2.findContours(mask, cv2.RETR_EXTERNAL, cv2.CHAIN_APPROX_SIMPLE)\n",
        "\n",
        "    if not contours:\n",
        "        print(f\"Warning: No color regions found in {image_path}\")\n",
        "        return None\n",
        "\n",
        "    # Find the largest contour (which should be our color image)\n",
        "    largest_contour = max(contours, key=cv2.contourArea)\n",
        "\n",
        "    # Get the bounding rectangle of the largest contour\n",
        "    x, y, w, h = cv2.boundingRect(largest_contour)\n",
        "\n",
        "    # Add padding\n",
        "    x = max(0, x - padding)\n",
        "    y = max(0, y - padding)\n",
        "    w = min(img.shape[1] - x, w + 2*padding)\n",
        "    h = min(img.shape[0] - y, h + 2*padding)\n",
        "\n",
        "    # Crop the image\n",
        "    cropped = img[y:y+h, x:x+w]\n",
        "\n",
        "    return cropped\n",
        "\n",
        "def crop_images_in_folder(input_folder, output_folder):\n",
        "    # Create output folder if it doesn't exist\n",
        "    if not os.path.exists(output_folder):\n",
        "        os.makedirs(output_folder)\n",
        "\n",
        "    for filename in os.listdir(input_folder):\n",
        "        img_path = os.path.join(input_folder, filename)\n",
        "        if os.path.isfile(img_path):\n",
        "            cropped_image = detect_and_crop_color_image(img_path)\n",
        "            if cropped_image is not None:\n",
        "                output_path = os.path.join(output_folder, filename)\n",
        "                cv2.imwrite(output_path, cropped_image)\n",
        "                print(f\"Processed and saved: {filename}\")\n",
        "            else:\n",
        "                print(f\"Failed to process: {filename}\")\n",
        "\n",
        "# Example usage:\n",
        "input_folder = '/content/drive/MyDrive/Colab Notebooks/MT_project/MT_0'\n",
        "output_folder = '/content/drive/MyDrive/Colab Notebooks/MT_project/MT_0_crop'\n",
        "crop_images_in_folder(input_folder, output_folder)"
      ],
      "metadata": {
        "colab": {
          "base_uri": "https://localhost:8080/"
        },
        "id": "Xl7Y1NYaUp2o",
        "outputId": "4b5921a2-10a1-4974-ddeb-e8993cdf5649"
      },
      "execution_count": null,
      "outputs": [
        {
          "output_type": "stream",
          "name": "stdout",
          "text": [
            "Processed and saved: c0_22_81bddd1d.jpg\n",
            "Processed and saved: c0_2_0d1ebf6c.jpg\n",
            "Processed and saved: c0_2_b9bd9ee4.jpg\n",
            "Processed and saved: c0_25_81bddd1d.jpg\n",
            "Processed and saved: c0_11_81bddd1d.jpg\n",
            "Processed and saved: c0_2_c318f4f9.jpg\n",
            "Processed and saved: c0_18_81bddd1d.jpg\n",
            "Processed and saved: c0_2_487cae5b.jpg\n",
            "Processed and saved: c0_16_81bddd1d.jpg\n",
            "Processed and saved: c0_13_81bddd1d.jpg\n",
            "Processed and saved: c0_17_81bddd1d.jpg\n",
            "Processed and saved: c0_2_3644aa4c.jpg\n",
            "Processed and saved: c0_32_81bddd1d.jpg\n",
            "Processed and saved: c0_33_81bddd1d.jpg\n",
            "Processed and saved: c0_2_7317a4b5.jpg\n",
            "Processed and saved: c0_2_8bc95ee5.jpg\n",
            "Processed and saved: c0_2_f7db44d2.jpg\n",
            "Processed and saved: c0_27_81bddd1d.jpg\n",
            "Processed and saved: c0_30_81bddd1d.jpg\n",
            "Processed and saved: c0_31_81bddd1d.jpg\n"
          ]
        }
      ]
    },
    {
      "cell_type": "markdown",
      "source": [
        "'/content/drive/MyDrive/Colab Notebooks/MT_project/MT_0_crop에 class '0'에 해당하는 이미지데이터 2093개와\n",
        "'/content/drive/MyDrive/Colab Notebooks/MT_project/MT_1_crop'에 class '1'에 해당하는이미지데이터 2839개가 준비되어 있음.\n",
        "\n",
        "각각의 폴더에서 랜덤으로 200장씩을 추려서 val 및 test를 위한 데이터셋을 만들어주는 코드를 작성해.\n",
        "'/content/drive/MyDrive/Colab Notebooks/MT_240721/val/MT_0'\n",
        "'/content/drive/MyDrive/Colab Notebooks/MT_240721/val/MT_1'\n",
        "'/content/drive/MyDrive/Colab Notebooks/MT_240721/test/MT_0'\n",
        "'/content/drive/MyDrive/Colab Notebooks/MT_240721/test/MT_1'\n",
        "에 각각 200장씩을 담고, 나머지 데이터는\n",
        "'/content/drive/MyDrive/Colab Notebooks/MT_240721/train/MT_0'\n",
        "'/content/drive/MyDrive/Colab Notebooks/MT_240721/train/MT_1'"
      ],
      "metadata": {
        "id": "-yve88UvpHoe"
      }
    },
    {
      "cell_type": "code",
      "source": [
        "import os\n",
        "import shutil\n",
        "import random\n",
        "import glob\n",
        "\n",
        "# 폴더 경로 설정\n",
        "source_folders = {\n",
        "    '0': '/content/drive/MyDrive/Colab Notebooks/MT_project/MT_0_crop',\n",
        "    '1': '/content/drive/MyDrive/Colab Notebooks/MT_project/MT_1_crop'\n",
        "}\n",
        "\n",
        "destination_folders = {\n",
        "    'val': {\n",
        "        '0': '/content/drive/MyDrive/Colab Notebooks/MT_240721/val/MT_0',\n",
        "        '1': '/content/drive/MyDrive/Colab Notebooks/MT_240721/val/MT_1'\n",
        "    },\n",
        "    'test': {\n",
        "        '0': '/content/drive/MyDrive/Colab Notebooks/MT_240721/test/MT_0',\n",
        "        '1': '/content/drive/MyDrive/Colab Notebooks/MT_240721/test/MT_1'\n",
        "    },\n",
        "    'train': {\n",
        "        '0': '/content/drive/MyDrive/Colab Notebooks/MT_240721/train/MT_0',\n",
        "        '1': '/content/drive/MyDrive/Colab Notebooks/MT_240721/train/MT_1'\n",
        "    }\n",
        "}\n",
        "\n",
        "# 디렉토리 생성 함수\n",
        "def create_dir_if_not_exists(path):\n",
        "    if not os.path.exists(path):\n",
        "        os.makedirs(path)\n",
        "\n",
        "# 데이터 이동 함수\n",
        "def move_images(source_folder, dest_folder, num_images):\n",
        "    images = glob.glob(os.path.join(source_folder, '*'))\n",
        "    selected_images = random.sample(images, num_images)\n",
        "    for image in selected_images:\n",
        "        shutil.move(image, dest_folder)\n",
        "\n",
        "# 메인 작업\n",
        "for class_label in ['0', '1']:\n",
        "    source_folder = source_folders[class_label]\n",
        "\n",
        "    # 디렉토리 생성\n",
        "    for folder_type in ['val', 'test', 'train']:\n",
        "        create_dir_if_not_exists(destination_folders[folder_type][class_label])\n",
        "\n",
        "    # validation과 test 이미지를 각각 200장씩 추출 및 이동\n",
        "    val_folder = destination_folders['val'][class_label]\n",
        "    test_folder = destination_folders['test'][class_label]\n",
        "    move_images(source_folder, val_folder, 200)\n",
        "    move_images(source_folder, test_folder, 200)\n",
        "\n",
        "    # 나머지 이미지를 train 폴더로 이동\n",
        "    remaining_images = glob.glob(os.path.join(source_folder, '*'))\n",
        "    for image in remaining_images:\n",
        "        shutil.move(image, destination_folders['train'][class_label])\n",
        "\n",
        "print(\"이미지 데이터 분할이 완료되었습니다.\")\n"
      ],
      "metadata": {
        "colab": {
          "base_uri": "https://localhost:8080/"
        },
        "id": "4rqptsHApG83",
        "outputId": "6d1d5f65-78ed-475e-f46e-f71e32e3a44c"
      },
      "execution_count": null,
      "outputs": [
        {
          "output_type": "stream",
          "name": "stdout",
          "text": [
            "이미지 데이터 분할이 완료되었습니다.\n"
          ]
        }
      ]
    },
    {
      "cell_type": "markdown",
      "source": [
        "수평 뒤집기와 90도, 180도, 270도 회전만 허용하도록 코드를 수정"
      ],
      "metadata": {
        "id": "ixJHTDpRRxUA"
      }
    },
    {
      "cell_type": "code",
      "source": [
        "import tensorflow as tf\n",
        "import numpy as np\n",
        "import os\n",
        "\n",
        "# 증강할 이미지 수\n",
        "augmented_image_count = 6772\n",
        "\n",
        "# 원본 이미지 폴더\n",
        "train_folders = {\n",
        "    '0': '/content/drive/MyDrive/Colab Notebooks/MT_240721/train_unaug/0',\n",
        "    '1': '/content/drive/MyDrive/Colab Notebooks/MT_240721/train_unaug/1'\n",
        "}\n",
        "\n",
        "# 증강된 이미지를 저장할 폴더\n",
        "aug_folders = {\n",
        "    '0': '/content/drive/MyDrive/Colab Notebooks/MT_240721/train_new/0',\n",
        "    '1': '/content/drive/MyDrive/Colab Notebooks/MT_240721/train_new/1'\n",
        "}\n",
        "\n",
        "# 디렉토리 생성 함수\n",
        "def create_dir_if_not_exists(path):\n",
        "    if not os.path.exists(path):\n",
        "        os.makedirs(path)\n",
        "\n",
        "# 디렉토리 생성\n",
        "for class_label in ['0', '1']:\n",
        "    create_dir_if_not_exists(aug_folders[class_label])\n",
        "\n",
        "# 90도, 180도, 270도 회전 함수\n",
        "def rotate_image(image):\n",
        "    angle = np.random.choice([90, 180, 270])\n",
        "    return tf.image.rot90(image, k=angle // 90)\n",
        "\n",
        "# 수평 뒤집기 함수\n",
        "def flip_image(image):\n",
        "    return tf.image.flip_left_right(image)\n",
        "\n",
        "# 증강 및 저장 함수\n",
        "def augment_images(source_folder, dest_folder, target_count):\n",
        "    images = os.listdir(source_folder)\n",
        "    image_count = len(images)\n",
        "    aug_factor = (target_count // image_count) + 1\n",
        "\n",
        "    for img_name in images:\n",
        "        img_path = os.path.join(source_folder, img_name)\n",
        "        img = tf.keras.preprocessing.image.load_img(img_path)\n",
        "        x = tf.keras.preprocessing.image.img_to_array(img)\n",
        "\n",
        "        for i in range(aug_factor):\n",
        "            # 원본 이미지\n",
        "            augmented = x\n",
        "\n",
        "            # 회전 적용 (50% 확률)\n",
        "            if np.random.rand() < 0.5:\n",
        "                augmented = rotate_image(augmented)\n",
        "\n",
        "            # 수평 뒤집기 적용 (50% 확률)\n",
        "            if np.random.rand() < 0.5:\n",
        "                augmented = flip_image(augmented)\n",
        "\n",
        "            # 증강된 이미지 저장\n",
        "            tf.keras.preprocessing.image.save_img(\n",
        "                os.path.join(dest_folder, f'aug_{i}_{img_name}'),\n",
        "                augmented\n",
        "            )\n",
        "\n",
        "# 각 클래스에 대해 증강 수행\n",
        "for class_label in ['0', '1']:\n",
        "    source_folder = train_folders[class_label]\n",
        "    dest_folder = aug_folders[class_label]\n",
        "    augment_images(source_folder, dest_folder, augmented_image_count)\n",
        "\n",
        "print(\"데이터 증강이 완료되었습니다.\")"
      ],
      "metadata": {
        "colab": {
          "base_uri": "https://localhost:8080/"
        },
        "id": "zIWm0XBNRwN6",
        "outputId": "ad23c3c6-a690-4c37-a3cc-73634c1d2999"
      },
      "execution_count": null,
      "outputs": [
        {
          "output_type": "stream",
          "name": "stdout",
          "text": [
            "데이터 증강이 완료되었습니다.\n"
          ]
        }
      ]
    },
    {
      "cell_type": "markdown",
      "source": [
        "'0':'/content/drive/MyDrive/Colab Notebooks/MT_240721/train/MT_0'에는 1693개의 이미지가 들어 있고,\n",
        "'1': '/content/drive/MyDrive/Colab Notebooks/MT_240721/train/MT_1'에는 2439개의 이미지가 들어 있음.\n",
        "\n",
        "data augmentation을 해서,\n",
        "'0':'/content/drive/MyDrive/Colab Notebooks/MT_240721/train/MT_0_aug'폴더와\n",
        "'1': '/content/drive/MyDrive/Colab Notebooks/MT_240721/train/MT_1_uag'폴더에 각각 6772장의 학습용 데이터를 만들어주는 코드"
      ],
      "metadata": {
        "id": "j3phRrQssWSV"
      }
    },
    {
      "cell_type": "code",
      "source": [
        "import tensorflow as tf\n",
        "from tensorflow.keras.preprocessing.image import ImageDataGenerator\n",
        "import os\n",
        "import shutil\n",
        "\n",
        "# 증강할 이미지 수\n",
        "augmented_image_count = 6772\n",
        "\n",
        "# 원본 이미지 폴더\n",
        "train_folders = {\n",
        "    '0': '/content/drive/MyDrive/Colab Notebooks/MT_240721/train/MT_0',\n",
        "    '1': '/content/drive/MyDrive/Colab Notebooks/MT_240721/train/MT_1'\n",
        "}\n",
        "\n",
        "# 증강된 이미지를 저장할 폴더\n",
        "aug_folders = {\n",
        "    '0': '/content/drive/MyDrive/Colab Notebooks/MT_240721/train/MT_0_aug',\n",
        "    '1': '/content/drive/MyDrive/Colab Notebooks/MT_240721/train/MT_1_aug'\n",
        "}\n",
        "\n",
        "# 디렉토리 생성 함수\n",
        "def create_dir_if_not_exists(path):\n",
        "    if not os.path.exists(path):\n",
        "        os.makedirs(path)\n",
        "\n",
        "# 디렉토리 생성\n",
        "for class_label in ['0', '1']:\n",
        "    create_dir_if_not_exists(aug_folders[class_label])\n",
        "\n",
        "# 이미지 증강 설정\n",
        "datagen = ImageDataGenerator(\n",
        "    rotation_range=40,\n",
        "    width_shift_range=0.2,\n",
        "    height_shift_range=0.2,\n",
        "    shear_range=0.2,\n",
        "    zoom_range=0.2,\n",
        "    horizontal_flip=True,\n",
        "    fill_mode='nearest'\n",
        ")\n",
        "\n",
        "# 증강 및 저장 함수\n",
        "def augment_images(source_folder, dest_folder, target_count):\n",
        "    images = os.listdir(source_folder)\n",
        "    image_count = len(images)\n",
        "    aug_factor = (target_count // image_count) + 1\n",
        "\n",
        "    for img_name in images:\n",
        "        img_path = os.path.join(source_folder, img_name)\n",
        "        img = tf.keras.preprocessing.image.load_img(img_path)\n",
        "        x = tf.keras.preprocessing.image.img_to_array(img)\n",
        "        x = x.reshape((1,) + x.shape)\n",
        "\n",
        "        i = 0\n",
        "        for batch in datagen.flow(x, batch_size=1, save_to_dir=dest_folder, save_prefix='aug', save_format='jpeg'):\n",
        "            i += 1\n",
        "            if i >= aug_factor:\n",
        "                break\n",
        "\n",
        "# 각 클래스에 대해 증강 수행\n",
        "for class_label in ['0', '1']:\n",
        "    source_folder = train_folders[class_label]\n",
        "    dest_folder = aug_folders[class_label]\n",
        "    augment_images(source_folder, dest_folder, augmented_image_count)\n",
        "\n",
        "print(\"데이터 증강이 완료되었습니다.\")\n"
      ],
      "metadata": {
        "id": "wzcPL4a8sUYI"
      },
      "execution_count": null,
      "outputs": []
    },
    {
      "cell_type": "markdown",
      "source": [
        "2024.7.28일 작업 시작"
      ],
      "metadata": {
        "id": "BBD1rj42QUOm"
      }
    },
    {
      "cell_type": "code",
      "source": [
        "import tensorflow as tf\n",
        "from tensorflow.keras.applications import MobileNetV2\n",
        "from tensorflow.keras.layers import GlobalAveragePooling2D, Dense\n",
        "from tensorflow.keras.models import Model\n",
        "from tensorflow.keras.optimizers import Adam\n",
        "from tensorflow.keras.preprocessing.image import ImageDataGenerator\n",
        "\n",
        "# 데이터 경로 설정\n",
        "train_data_dir = '/content/drive/MyDrive/Colab Notebooks/MT_240721/train_unaug'\n",
        "val_data_dir = '/content/drive/MyDrive/Colab Notebooks/MT_240721/val'\n",
        "test_data_dir = '/content/drive/MyDrive/Colab Notebooks/MT_240721/test'\n",
        "\n",
        "# 이미지 크기 및 배치 크기 설정\n",
        "img_width, img_height = 224, 224\n",
        "batch_size = 32\n",
        "\n",
        "# 데이터 증강 및 전처리 (훈련 세트에만 적용)\n",
        "train_datagen = ImageDataGenerator(\n",
        "    rescale=1./255,\n",
        "    rotation_range=20,\n",
        "    width_shift_range=0.2,\n",
        "    height_shift_range=0.2,\n",
        "    horizontal_flip=True\n",
        ")\n",
        "\n",
        "# 검증 및 테스트 세트에는 증강을 적용하지 않고 스케일링만 수행\n",
        "val_test_datagen = ImageDataGenerator(rescale=1./255)\n",
        "\n",
        "# 훈련 데이터 생성기\n",
        "train_generator = train_datagen.flow_from_directory(\n",
        "    train_data_dir,\n",
        "    target_size=(img_width, img_height),\n",
        "    batch_size=batch_size,\n",
        "    class_mode='binary'\n",
        ")\n",
        "\n",
        "# 검증 데이터 생성기\n",
        "validation_generator = val_test_datagen.flow_from_directory(\n",
        "    val_data_dir,\n",
        "    target_size=(img_width, img_height),\n",
        "    batch_size=batch_size,\n",
        "    class_mode='binary'\n",
        ")\n",
        "\n",
        "# 테스트 데이터 생성기\n",
        "test_generator = val_test_datagen.flow_from_directory(\n",
        "    test_data_dir,\n",
        "    target_size=(img_width, img_height),\n",
        "    batch_size=batch_size,\n",
        "    class_mode='binary',\n",
        "    shuffle=False  # 테스트 세트는 셔플하지 않음\n",
        ")\n",
        "\n",
        "# 클래스 가중치 계산 (훈련 세트 기준)\n",
        "total_samples = 1693 + 2439\n",
        "weight_for_0 = (1 / 1693) * (total_samples / 2.0)\n",
        "weight_for_1 = (1 / 2439) * (total_samples / 2.0)\n",
        "class_weight = {0: weight_for_0, 1: weight_for_1}\n",
        "\n",
        "# MobileNetV2 모델 로드 (weights='imagenet'으로 사전 학습된 가중치 사용)\n",
        "base_model = MobileNetV2(weights='imagenet', include_top=False, input_shape=(img_width, img_height, 3))\n",
        "\n",
        "# 새로운 분류기 레이어 추가\n",
        "x = base_model.output\n",
        "x = GlobalAveragePooling2D()(x)\n",
        "x = Dense(1024, activation='relu')(x)\n",
        "output = Dense(1, activation='sigmoid')(x)\n",
        "\n",
        "# 최종 모델 생성\n",
        "model = Model(inputs=base_model.input, outputs=output)\n",
        "\n",
        "# 기본 모델의 레이어들을 고정 (선택적)\n",
        "for layer in base_model.layers:\n",
        "    layer.trainable = False\n",
        "\n",
        "# 모델 컴파일\n",
        "model.compile(optimizer=Adam(learning_rate=0.0001), loss='binary_crossentropy', metrics=['accuracy'])\n",
        "\n",
        "# 모델 학습\n",
        "epochs = 20\n",
        "history = model.fit(\n",
        "    train_generator,\n",
        "    steps_per_epoch=train_generator.samples // batch_size,\n",
        "    epochs=epochs,\n",
        "    validation_data=validation_generator,\n",
        "    validation_steps=validation_generator.samples // batch_size,\n",
        "    class_weight=class_weight\n",
        ")\n",
        "\n",
        "# 모델 저장\n",
        "model.save('mobilenetv2_model.h5')\n",
        "\n",
        "# 테스트 세트에 대한 평가\n",
        "test_loss, test_acc = model.evaluate(test_generator, steps=test_generator.samples // batch_size)\n",
        "print(f\"Test accuracy: {test_acc:.4f}\")\n",
        "print(f\"Test loss: {test_loss:.4f}\")\n",
        "\n",
        "# 학습 결과 출력\n",
        "print(history.history)"
      ],
      "metadata": {
        "colab": {
          "base_uri": "https://localhost:8080/"
        },
        "id": "7r_Dlv4iQTPu",
        "outputId": "bc30fbfb-4a53-403f-cf90-5d46d7cfd039"
      },
      "execution_count": 3,
      "outputs": [
        {
          "output_type": "stream",
          "name": "stdout",
          "text": [
            "Found 4132 images belonging to 2 classes.\n",
            "Found 400 images belonging to 2 classes.\n",
            "Found 400 images belonging to 2 classes.\n",
            "Downloading data from https://storage.googleapis.com/tensorflow/keras-applications/mobilenet_v2/mobilenet_v2_weights_tf_dim_ordering_tf_kernels_1.0_224_no_top.h5\n",
            "9406464/9406464 [==============================] - 2s 0us/step\n",
            "Epoch 1/20\n",
            "129/129 [==============================] - 2109s 16s/step - loss: 0.6362 - accuracy: 0.6266 - val_loss: 0.5775 - val_accuracy: 0.6875\n",
            "Epoch 2/20\n",
            "129/129 [==============================] - 73s 567ms/step - loss: 0.5665 - accuracy: 0.6971 - val_loss: 0.5816 - val_accuracy: 0.6979\n",
            "Epoch 3/20\n",
            "129/129 [==============================] - 74s 572ms/step - loss: 0.5520 - accuracy: 0.7090 - val_loss: 0.5230 - val_accuracy: 0.7188\n",
            "Epoch 4/20\n",
            "129/129 [==============================] - 74s 572ms/step - loss: 0.5418 - accuracy: 0.7241 - val_loss: 0.5276 - val_accuracy: 0.7344\n",
            "Epoch 5/20\n",
            "129/129 [==============================] - 74s 572ms/step - loss: 0.5283 - accuracy: 0.7339 - val_loss: 0.5409 - val_accuracy: 0.7266\n",
            "Epoch 6/20\n",
            "129/129 [==============================] - 74s 570ms/step - loss: 0.5098 - accuracy: 0.7393 - val_loss: 0.5492 - val_accuracy: 0.7188\n",
            "Epoch 7/20\n",
            "129/129 [==============================] - 74s 574ms/step - loss: 0.4985 - accuracy: 0.7549 - val_loss: 0.5180 - val_accuracy: 0.7396\n",
            "Epoch 8/20\n",
            "129/129 [==============================] - 74s 572ms/step - loss: 0.4980 - accuracy: 0.7515 - val_loss: 0.5212 - val_accuracy: 0.7240\n",
            "Epoch 9/20\n",
            "129/129 [==============================] - 74s 573ms/step - loss: 0.4820 - accuracy: 0.7634 - val_loss: 0.5146 - val_accuracy: 0.7526\n",
            "Epoch 10/20\n",
            "129/129 [==============================] - 74s 570ms/step - loss: 0.4772 - accuracy: 0.7717 - val_loss: 0.5383 - val_accuracy: 0.7214\n",
            "Epoch 11/20\n",
            "129/129 [==============================] - 74s 570ms/step - loss: 0.4706 - accuracy: 0.7629 - val_loss: 0.5439 - val_accuracy: 0.7240\n",
            "Epoch 12/20\n",
            "129/129 [==============================] - 74s 571ms/step - loss: 0.4844 - accuracy: 0.7578 - val_loss: 0.5057 - val_accuracy: 0.7318\n",
            "Epoch 13/20\n",
            "129/129 [==============================] - 74s 574ms/step - loss: 0.4568 - accuracy: 0.7822 - val_loss: 0.5127 - val_accuracy: 0.7422\n",
            "Epoch 14/20\n",
            "129/129 [==============================] - 74s 571ms/step - loss: 0.4598 - accuracy: 0.7759 - val_loss: 0.5129 - val_accuracy: 0.7474\n",
            "Epoch 15/20\n",
            "129/129 [==============================] - 74s 574ms/step - loss: 0.4464 - accuracy: 0.7859 - val_loss: 0.4965 - val_accuracy: 0.7630\n",
            "Epoch 16/20\n",
            "129/129 [==============================] - 74s 571ms/step - loss: 0.4332 - accuracy: 0.7961 - val_loss: 0.5064 - val_accuracy: 0.7656\n",
            "Epoch 17/20\n",
            "129/129 [==============================] - 74s 574ms/step - loss: 0.4357 - accuracy: 0.7949 - val_loss: 0.4995 - val_accuracy: 0.7682\n",
            "Epoch 18/20\n",
            "129/129 [==============================] - 74s 572ms/step - loss: 0.4271 - accuracy: 0.8002 - val_loss: 0.4939 - val_accuracy: 0.7760\n",
            "Epoch 19/20\n",
            "129/129 [==============================] - 74s 574ms/step - loss: 0.4213 - accuracy: 0.8034 - val_loss: 0.4862 - val_accuracy: 0.7812\n",
            "Epoch 20/20\n",
            "129/129 [==============================] - 74s 574ms/step - loss: 0.4175 - accuracy: 0.8039 - val_loss: 0.4969 - val_accuracy: 0.7630\n"
          ]
        },
        {
          "output_type": "stream",
          "name": "stderr",
          "text": [
            "/usr/local/lib/python3.10/dist-packages/keras/src/engine/training.py:3103: UserWarning: You are saving your model as an HDF5 file via `model.save()`. This file format is considered legacy. We recommend using instead the native Keras format, e.g. `model.save('my_model.keras')`.\n",
            "  saving_api.save_model(\n"
          ]
        },
        {
          "output_type": "stream",
          "name": "stdout",
          "text": [
            "12/12 [==============================] - 247s 22s/step - loss: 0.4828 - accuracy: 0.7448\n",
            "Test accuracy: 0.7448\n",
            "Test loss: 0.4828\n",
            "{'loss': [0.6361958384513855, 0.5665102601051331, 0.5520390272140503, 0.5418499708175659, 0.5283254981040955, 0.5097712874412537, 0.4984736442565918, 0.4979851245880127, 0.4820324778556824, 0.4771963655948639, 0.47055646777153015, 0.4844398498535156, 0.4568382799625397, 0.4598428010940552, 0.44637489318847656, 0.4331839084625244, 0.43571051955223083, 0.4271153211593628, 0.4213307201862335, 0.41754719614982605], 'accuracy': [0.6265853643417358, 0.6970731616020203, 0.7090243697166443, 0.7241463661193848, 0.7339024543762207, 0.7392683029174805, 0.754878044128418, 0.7514634132385254, 0.7634146213531494, 0.77170729637146, 0.7629268169403076, 0.7578048706054688, 0.7821951508522034, 0.7758536338806152, 0.7858536839485168, 0.7960975766181946, 0.7948780655860901, 0.8002439141273499, 0.8034146428108215, 0.8039024472236633], 'val_loss': [0.5774917006492615, 0.5816199779510498, 0.5229909420013428, 0.5275750756263733, 0.5408704876899719, 0.5492265224456787, 0.5180375576019287, 0.5212346911430359, 0.514639139175415, 0.5382805466651917, 0.5439039468765259, 0.5057147145271301, 0.5126816630363464, 0.512914776802063, 0.49653303623199463, 0.5064358115196228, 0.49945756793022156, 0.4939311444759369, 0.4861692190170288, 0.4969301223754883], 'val_accuracy': [0.6875, 0.6979166865348816, 0.71875, 0.734375, 0.7265625, 0.71875, 0.7395833134651184, 0.7239583134651184, 0.7526041865348816, 0.7213541865348816, 0.7239583134651184, 0.7317708134651184, 0.7421875, 0.7473958134651184, 0.7630208134651184, 0.765625, 0.7682291865348816, 0.7760416865348816, 0.78125, 0.7630208134651184]}\n"
          ]
        }
      ]
    },
    {
      "cell_type": "markdown",
      "source": [
        "데이터 증강 강화:\n",
        "\n",
        "rotation_range를 40으로 증가\n",
        "shear_range, zoom_range, vertical_flip, brightness_range 추가\n",
        "\n",
        "\n",
        "모델 아키텍처 조정:\n",
        "\n",
        "더 복잡한 분류기 헤드 추가 (두 개의 Dense 레이어와 Dropout 레이어)\n",
        "기본 모델의 마지막 30개 레이어를 fine-tuning을 위해 훈련 가능하도록 설정\n",
        "\n",
        "\n",
        "학습 과정 최적화:\n",
        "\n",
        "에폭 수를 50으로 증가\n",
        "ReduceLROnPlateau 콜백 추가하여 학습률을 동적으로 조정"
      ],
      "metadata": {
        "id": "rD86gMJI8L6U"
      }
    },
    {
      "cell_type": "code",
      "source": [
        "import tensorflow as tf\n",
        "from tensorflow.keras.applications import MobileNetV2\n",
        "from tensorflow.keras.layers import GlobalAveragePooling2D, Dense, Dropout\n",
        "from tensorflow.keras.models import Model\n",
        "from tensorflow.keras.optimizers import Adam\n",
        "from tensorflow.keras.preprocessing.image import ImageDataGenerator\n",
        "from tensorflow.keras.callbacks import ReduceLROnPlateau\n",
        "\n",
        "# 데이터 경로 설정\n",
        "train_data_dir = '/content/drive/MyDrive/Colab Notebooks/MT_240721/train_unaug'\n",
        "val_data_dir = '/content/drive/MyDrive/Colab Notebooks/MT_240721/val'\n",
        "test_data_dir = '/content/drive/MyDrive/Colab Notebooks/MT_240721/test'\n",
        "\n",
        "# 이미지 크기 및 배치 크기 설정\n",
        "img_width, img_height = 224, 224\n",
        "batch_size = 32\n",
        "\n",
        "# 데이터 증강 및 전처리 (강화된 버전)\n",
        "train_datagen = ImageDataGenerator(\n",
        "    rescale=1./255,\n",
        "    rotation_range=40,\n",
        "    width_shift_range=0.2,\n",
        "    height_shift_range=0.2,\n",
        "    shear_range=0.2,\n",
        "    zoom_range=0.2,\n",
        "    horizontal_flip=True,\n",
        "    vertical_flip=True,\n",
        "    brightness_range=[0.8,1.2]\n",
        ")\n",
        "\n",
        "# 검증 및 테스트 세트에는 증강을 적용하지 않고 스케일링만 수행\n",
        "val_test_datagen = ImageDataGenerator(rescale=1./255)\n",
        "\n",
        "# 데이터 생성기\n",
        "train_generator = train_datagen.flow_from_directory(\n",
        "    train_data_dir,\n",
        "    target_size=(img_width, img_height),\n",
        "    batch_size=batch_size,\n",
        "    class_mode='binary'\n",
        ")\n",
        "\n",
        "validation_generator = val_test_datagen.flow_from_directory(\n",
        "    val_data_dir,\n",
        "    target_size=(img_width, img_height),\n",
        "    batch_size=batch_size,\n",
        "    class_mode='binary'\n",
        ")\n",
        "\n",
        "test_generator = val_test_datagen.flow_from_directory(\n",
        "    test_data_dir,\n",
        "    target_size=(img_width, img_height),\n",
        "    batch_size=batch_size,\n",
        "    class_mode='binary',\n",
        "    shuffle=False\n",
        ")\n",
        "\n",
        "# 클래스 가중치 계산\n",
        "total_samples = 1693 + 2439\n",
        "weight_for_0 = (1 / 1693) * (total_samples / 2.0)\n",
        "weight_for_1 = (1 / 2439) * (total_samples / 2.0)\n",
        "class_weight = {0: weight_for_0, 1: weight_for_1}\n",
        "\n",
        "# MobileNetV2 모델 로드\n",
        "base_model = MobileNetV2(weights='imagenet', include_top=False, input_shape=(img_width, img_height, 3))\n",
        "\n",
        "# 새로운 분류기 레이어 추가 (더 복잡한 구조)\n",
        "x = base_model.output\n",
        "x = GlobalAveragePooling2D()(x)\n",
        "x = Dense(1024, activation='relu')(x)\n",
        "x = Dropout(0.5)(x)\n",
        "x = Dense(512, activation='relu')(x)\n",
        "x = Dropout(0.3)(x)\n",
        "output = Dense(1, activation='sigmoid')(x)\n",
        "\n",
        "# 최종 모델 생성\n",
        "model = Model(inputs=base_model.input, outputs=output)\n",
        "\n",
        "# Fine-tuning을 위해 기본 모델의 일부 레이어 해제\n",
        "for layer in base_model.layers[-30:]:\n",
        "    layer.trainable = True\n",
        "\n",
        "# 모델 컴파일\n",
        "model.compile(optimizer=Adam(learning_rate=0.0001), loss='binary_crossentropy', metrics=['accuracy'])\n",
        "\n",
        "# 콜백 설정\n",
        "reduce_lr = ReduceLROnPlateau(monitor='val_loss', factor=0.2, patience=5, min_lr=1e-6)\n",
        "\n",
        "# 모델 학습\n",
        "epochs = 50  # 에폭 수 증가\n",
        "history = model.fit(\n",
        "    train_generator,\n",
        "    steps_per_epoch=train_generator.samples // batch_size,\n",
        "    epochs=epochs,\n",
        "    validation_data=validation_generator,\n",
        "    validation_steps=validation_generator.samples // batch_size,\n",
        "    class_weight=class_weight,\n",
        "    callbacks=[reduce_lr]\n",
        ")\n",
        "\n",
        "# 모델 저장\n",
        "model.save('240728_2_mobilenetv2_model.h5')\n",
        "\n",
        "# 테스트 세트에 대한 평가\n",
        "test_loss, test_acc = model.evaluate(test_generator, steps=test_generator.samples // batch_size)\n",
        "print(f\"Test accuracy: {test_acc:.4f}\")\n",
        "print(f\"Test loss: {test_loss:.4f}\")\n",
        "\n",
        "# 학습 결과 출력\n",
        "print(history.history)"
      ],
      "metadata": {
        "colab": {
          "base_uri": "https://localhost:8080/"
        },
        "id": "jX2VCoP_0VsZ",
        "outputId": "d31ec0a7-d1a0-4b06-fb09-9cdc2fc35115"
      },
      "execution_count": 1,
      "outputs": [
        {
          "output_type": "stream",
          "name": "stdout",
          "text": [
            "Found 4132 images belonging to 2 classes.\n",
            "Found 400 images belonging to 2 classes.\n",
            "Found 400 images belonging to 2 classes.\n",
            "Downloading data from https://storage.googleapis.com/tensorflow/keras-applications/mobilenet_v2/mobilenet_v2_weights_tf_dim_ordering_tf_kernels_1.0_224_no_top.h5\n",
            "9406464/9406464 [==============================] - 2s 0us/step\n",
            "Epoch 1/50\n",
            "129/129 [==============================] - 2009s 15s/step - loss: 0.6505 - accuracy: 0.6300 - val_loss: 0.8523 - val_accuracy: 0.5286 - lr: 1.0000e-04\n",
            "Epoch 2/50\n",
            "129/129 [==============================] - 82s 635ms/step - loss: 0.5421 - accuracy: 0.7220 - val_loss: 1.4656 - val_accuracy: 0.5130 - lr: 1.0000e-04\n",
            "Epoch 3/50\n",
            "129/129 [==============================] - 82s 636ms/step - loss: 0.5022 - accuracy: 0.7571 - val_loss: 1.3867 - val_accuracy: 0.5365 - lr: 1.0000e-04\n",
            "Epoch 4/50\n",
            "129/129 [==============================] - 82s 637ms/step - loss: 0.4597 - accuracy: 0.7902 - val_loss: 1.2025 - val_accuracy: 0.5859 - lr: 1.0000e-04\n",
            "Epoch 5/50\n",
            "129/129 [==============================] - 82s 635ms/step - loss: 0.4325 - accuracy: 0.7993 - val_loss: 1.1174 - val_accuracy: 0.6068 - lr: 1.0000e-04\n",
            "Epoch 6/50\n",
            "129/129 [==============================] - 82s 638ms/step - loss: 0.4124 - accuracy: 0.8102 - val_loss: 0.7186 - val_accuracy: 0.6927 - lr: 1.0000e-04\n",
            "Epoch 7/50\n",
            "129/129 [==============================] - 82s 636ms/step - loss: 0.4022 - accuracy: 0.8229 - val_loss: 0.8678 - val_accuracy: 0.7135 - lr: 1.0000e-04\n",
            "Epoch 8/50\n",
            "129/129 [==============================] - 82s 634ms/step - loss: 0.3811 - accuracy: 0.8237 - val_loss: 0.8428 - val_accuracy: 0.6849 - lr: 1.0000e-04\n",
            "Epoch 9/50\n",
            "129/129 [==============================] - 83s 639ms/step - loss: 0.3660 - accuracy: 0.8337 - val_loss: 1.0840 - val_accuracy: 0.6615 - lr: 1.0000e-04\n",
            "Epoch 10/50\n",
            "129/129 [==============================] - 83s 642ms/step - loss: 0.3425 - accuracy: 0.8498 - val_loss: 0.8525 - val_accuracy: 0.6927 - lr: 1.0000e-04\n",
            "Epoch 11/50\n",
            "129/129 [==============================] - 82s 635ms/step - loss: 0.3205 - accuracy: 0.8593 - val_loss: 0.6632 - val_accuracy: 0.7474 - lr: 1.0000e-04\n",
            "Epoch 12/50\n",
            "129/129 [==============================] - 83s 639ms/step - loss: 0.3160 - accuracy: 0.8629 - val_loss: 0.7527 - val_accuracy: 0.7396 - lr: 1.0000e-04\n",
            "Epoch 13/50\n",
            "129/129 [==============================] - 82s 639ms/step - loss: 0.3016 - accuracy: 0.8671 - val_loss: 0.6498 - val_accuracy: 0.7135 - lr: 1.0000e-04\n",
            "Epoch 14/50\n",
            "129/129 [==============================] - 81s 631ms/step - loss: 0.2780 - accuracy: 0.8807 - val_loss: 0.6870 - val_accuracy: 0.7292 - lr: 1.0000e-04\n",
            "Epoch 15/50\n",
            "129/129 [==============================] - 82s 635ms/step - loss: 0.2658 - accuracy: 0.8829 - val_loss: 0.5970 - val_accuracy: 0.7604 - lr: 1.0000e-04\n",
            "Epoch 16/50\n",
            "129/129 [==============================] - 82s 634ms/step - loss: 0.2554 - accuracy: 0.8966 - val_loss: 0.5698 - val_accuracy: 0.7500 - lr: 1.0000e-04\n",
            "Epoch 17/50\n",
            "129/129 [==============================] - 82s 637ms/step - loss: 0.2640 - accuracy: 0.8876 - val_loss: 0.5038 - val_accuracy: 0.8073 - lr: 1.0000e-04\n",
            "Epoch 18/50\n",
            "129/129 [==============================] - 82s 634ms/step - loss: 0.2251 - accuracy: 0.9090 - val_loss: 0.5425 - val_accuracy: 0.8099 - lr: 1.0000e-04\n",
            "Epoch 19/50\n",
            "129/129 [==============================] - 82s 634ms/step - loss: 0.2378 - accuracy: 0.8988 - val_loss: 0.5907 - val_accuracy: 0.7995 - lr: 1.0000e-04\n",
            "Epoch 20/50\n",
            "129/129 [==============================] - 82s 633ms/step - loss: 0.2383 - accuracy: 0.9056 - val_loss: 0.6364 - val_accuracy: 0.7500 - lr: 1.0000e-04\n",
            "Epoch 21/50\n",
            "129/129 [==============================] - 81s 631ms/step - loss: 0.2183 - accuracy: 0.9080 - val_loss: 0.6261 - val_accuracy: 0.8021 - lr: 1.0000e-04\n",
            "Epoch 22/50\n",
            "129/129 [==============================] - 82s 636ms/step - loss: 0.2013 - accuracy: 0.9149 - val_loss: 0.6461 - val_accuracy: 0.7943 - lr: 1.0000e-04\n",
            "Epoch 23/50\n",
            "129/129 [==============================] - 82s 632ms/step - loss: 0.1832 - accuracy: 0.9280 - val_loss: 0.5682 - val_accuracy: 0.8281 - lr: 2.0000e-05\n",
            "Epoch 24/50\n",
            "129/129 [==============================] - 82s 632ms/step - loss: 0.1577 - accuracy: 0.9351 - val_loss: 0.4662 - val_accuracy: 0.8620 - lr: 2.0000e-05\n",
            "Epoch 25/50\n",
            "129/129 [==============================] - 82s 635ms/step - loss: 0.1635 - accuracy: 0.9346 - val_loss: 0.5549 - val_accuracy: 0.8464 - lr: 2.0000e-05\n",
            "Epoch 26/50\n",
            "129/129 [==============================] - 81s 631ms/step - loss: 0.1308 - accuracy: 0.9476 - val_loss: 0.5588 - val_accuracy: 0.8490 - lr: 2.0000e-05\n",
            "Epoch 27/50\n",
            "129/129 [==============================] - 82s 633ms/step - loss: 0.1381 - accuracy: 0.9439 - val_loss: 0.5938 - val_accuracy: 0.8177 - lr: 2.0000e-05\n",
            "Epoch 28/50\n",
            "129/129 [==============================] - 82s 635ms/step - loss: 0.1335 - accuracy: 0.9446 - val_loss: 0.5869 - val_accuracy: 0.8411 - lr: 2.0000e-05\n",
            "Epoch 29/50\n",
            "129/129 [==============================] - 82s 633ms/step - loss: 0.1289 - accuracy: 0.9507 - val_loss: 0.5693 - val_accuracy: 0.8490 - lr: 2.0000e-05\n",
            "Epoch 30/50\n",
            "129/129 [==============================] - 82s 634ms/step - loss: 0.1347 - accuracy: 0.9456 - val_loss: 0.5810 - val_accuracy: 0.8464 - lr: 4.0000e-06\n",
            "Epoch 31/50\n",
            "129/129 [==============================] - 82s 632ms/step - loss: 0.1293 - accuracy: 0.9478 - val_loss: 0.5813 - val_accuracy: 0.8464 - lr: 4.0000e-06\n",
            "Epoch 32/50\n",
            "129/129 [==============================] - 82s 634ms/step - loss: 0.1285 - accuracy: 0.9483 - val_loss: 0.5874 - val_accuracy: 0.8516 - lr: 4.0000e-06\n",
            "Epoch 33/50\n",
            "129/129 [==============================] - 82s 633ms/step - loss: 0.1248 - accuracy: 0.9529 - val_loss: 0.5729 - val_accuracy: 0.8490 - lr: 4.0000e-06\n",
            "Epoch 34/50\n",
            "129/129 [==============================] - 82s 634ms/step - loss: 0.1278 - accuracy: 0.9500 - val_loss: 0.6231 - val_accuracy: 0.8385 - lr: 4.0000e-06\n",
            "Epoch 35/50\n",
            "129/129 [==============================] - 82s 637ms/step - loss: 0.1186 - accuracy: 0.9539 - val_loss: 0.6288 - val_accuracy: 0.8333 - lr: 1.0000e-06\n",
            "Epoch 36/50\n",
            "129/129 [==============================] - 82s 639ms/step - loss: 0.1234 - accuracy: 0.9520 - val_loss: 0.6238 - val_accuracy: 0.8359 - lr: 1.0000e-06\n",
            "Epoch 37/50\n",
            "129/129 [==============================] - 82s 631ms/step - loss: 0.1168 - accuracy: 0.9532 - val_loss: 0.6541 - val_accuracy: 0.8307 - lr: 1.0000e-06\n",
            "Epoch 38/50\n",
            "129/129 [==============================] - 82s 639ms/step - loss: 0.1172 - accuracy: 0.9515 - val_loss: 0.6632 - val_accuracy: 0.8255 - lr: 1.0000e-06\n",
            "Epoch 39/50\n",
            "129/129 [==============================] - 82s 637ms/step - loss: 0.1259 - accuracy: 0.9488 - val_loss: 0.6313 - val_accuracy: 0.8307 - lr: 1.0000e-06\n",
            "Epoch 40/50\n",
            "129/129 [==============================] - 82s 638ms/step - loss: 0.1316 - accuracy: 0.9466 - val_loss: 0.6534 - val_accuracy: 0.8281 - lr: 1.0000e-06\n",
            "Epoch 41/50\n",
            "129/129 [==============================] - 82s 637ms/step - loss: 0.1141 - accuracy: 0.9544 - val_loss: 0.6427 - val_accuracy: 0.8229 - lr: 1.0000e-06\n",
            "Epoch 42/50\n",
            "129/129 [==============================] - 83s 639ms/step - loss: 0.1176 - accuracy: 0.9541 - val_loss: 0.6691 - val_accuracy: 0.8255 - lr: 1.0000e-06\n",
            "Epoch 43/50\n",
            "129/129 [==============================] - 83s 642ms/step - loss: 0.1132 - accuracy: 0.9546 - val_loss: 0.6721 - val_accuracy: 0.8203 - lr: 1.0000e-06\n",
            "Epoch 44/50\n",
            "129/129 [==============================] - 82s 637ms/step - loss: 0.1248 - accuracy: 0.9485 - val_loss: 0.6261 - val_accuracy: 0.8229 - lr: 1.0000e-06\n",
            "Epoch 45/50\n",
            "129/129 [==============================] - 83s 646ms/step - loss: 0.1113 - accuracy: 0.9541 - val_loss: 0.6592 - val_accuracy: 0.8281 - lr: 1.0000e-06\n",
            "Epoch 46/50\n",
            "129/129 [==============================] - 82s 636ms/step - loss: 0.1254 - accuracy: 0.9507 - val_loss: 0.6781 - val_accuracy: 0.8229 - lr: 1.0000e-06\n",
            "Epoch 47/50\n",
            "129/129 [==============================] - 83s 640ms/step - loss: 0.1098 - accuracy: 0.9605 - val_loss: 0.6632 - val_accuracy: 0.8255 - lr: 1.0000e-06\n",
            "Epoch 48/50\n",
            "129/129 [==============================] - 82s 636ms/step - loss: 0.1072 - accuracy: 0.9566 - val_loss: 0.6827 - val_accuracy: 0.8229 - lr: 1.0000e-06\n",
            "Epoch 49/50\n",
            "129/129 [==============================] - 82s 634ms/step - loss: 0.1210 - accuracy: 0.9527 - val_loss: 0.6457 - val_accuracy: 0.8177 - lr: 1.0000e-06\n",
            "Epoch 50/50\n",
            "129/129 [==============================] - 82s 638ms/step - loss: 0.1107 - accuracy: 0.9585 - val_loss: 0.6652 - val_accuracy: 0.8203 - lr: 1.0000e-06\n"
          ]
        },
        {
          "output_type": "stream",
          "name": "stderr",
          "text": [
            "/usr/local/lib/python3.10/dist-packages/keras/src/engine/training.py:3103: UserWarning: You are saving your model as an HDF5 file via `model.save()`. This file format is considered legacy. We recommend using instead the native Keras format, e.g. `model.save('my_model.keras')`.\n",
            "  saving_api.save_model(\n"
          ]
        },
        {
          "output_type": "stream",
          "name": "stdout",
          "text": [
            "12/12 [==============================] - 258s 23s/step - loss: 0.6211 - accuracy: 0.8151\n",
            "Test accuracy: 0.8151\n",
            "Test loss: 0.6211\n",
            "{'loss': [0.6505040526390076, 0.54213947057724, 0.5021506547927856, 0.45973750948905945, 0.432546466588974, 0.4124104082584381, 0.4022182524204254, 0.38112887740135193, 0.36604273319244385, 0.3425300121307373, 0.32046979665756226, 0.3159937262535095, 0.30159875750541687, 0.2779621481895447, 0.26576587557792664, 0.25539615750312805, 0.2640213668346405, 0.22509711980819702, 0.23783621191978455, 0.2383202761411667, 0.21834692358970642, 0.20131468772888184, 0.18315666913986206, 0.15772172808647156, 0.16354422271251678, 0.13078758120536804, 0.13810929656028748, 0.1335221230983734, 0.1289195865392685, 0.13473553955554962, 0.12931279838085175, 0.1285160630941391, 0.12478435039520264, 0.12782485783100128, 0.11856811493635178, 0.12338823825120926, 0.11679816991090775, 0.11720675230026245, 0.1258583664894104, 0.13155169785022736, 0.11409486085176468, 0.11759829521179199, 0.11317357420921326, 0.12476254254579544, 0.11133281141519547, 0.12544602155685425, 0.10979031771421432, 0.1072448343038559, 0.12101168185472488, 0.11067825555801392], 'accuracy': [0.6299999952316284, 0.7219512462615967, 0.757073163986206, 0.790243923664093, 0.7992683053016663, 0.8102439045906067, 0.8229268193244934, 0.8236585259437561, 0.8336585164070129, 0.849756121635437, 0.859268307685852, 0.8629268407821655, 0.8670731782913208, 0.8807317018508911, 0.8829268217086792, 0.8965853452682495, 0.8875609636306763, 0.9090244174003601, 0.8987804651260376, 0.9056097269058228, 0.9080488085746765, 0.9148780703544617, 0.9280487895011902, 0.9351219534873962, 0.9346341490745544, 0.9475609660148621, 0.9439024329185486, 0.9446341395378113, 0.9507316946983337, 0.9456097483634949, 0.947804868221283, 0.9482926726341248, 0.9529268145561218, 0.949999988079071, 0.9539024233818054, 0.9519512057304382, 0.9531707167625427, 0.9514634013175964, 0.9487804770469666, 0.9465853571891785, 0.9543902277946472, 0.9541463255882263, 0.9546341300010681, 0.9485365748405457, 0.9541463255882263, 0.9507316946983337, 0.9604877829551697, 0.9565853476524353, 0.9526829123497009, 0.9585365653038025], 'val_loss': [0.8522670269012451, 1.4655739068984985, 1.3866772651672363, 1.2025331258773804, 1.1173930168151855, 0.7185896039009094, 0.8678019642829895, 0.8427703976631165, 1.0840364694595337, 0.8525054454803467, 0.663213312625885, 0.7526907324790955, 0.6498257517814636, 0.6869733929634094, 0.5970146656036377, 0.5697640776634216, 0.5037541389465332, 0.5424569249153137, 0.5907214879989624, 0.6363530158996582, 0.6261177659034729, 0.6460612416267395, 0.5681633353233337, 0.46623048186302185, 0.5548933148384094, 0.5587910413742065, 0.5937587022781372, 0.5869061350822449, 0.5693473219871521, 0.5809854865074158, 0.5813100337982178, 0.5873679518699646, 0.5729154944419861, 0.6231476664543152, 0.6288079023361206, 0.6237783432006836, 0.6540715098381042, 0.6632108092308044, 0.6312515139579773, 0.6534384489059448, 0.6427467465400696, 0.6690742373466492, 0.6720715165138245, 0.6260773539543152, 0.6592053771018982, 0.678114116191864, 0.6631504893302917, 0.6827173233032227, 0.6457402110099792, 0.665180504322052], 'val_accuracy': [0.5286458134651184, 0.5130208134651184, 0.5364583134651184, 0.5859375, 0.6067708134651184, 0.6927083134651184, 0.7135416865348816, 0.6848958134651184, 0.6614583134651184, 0.6927083134651184, 0.7473958134651184, 0.7395833134651184, 0.7135416865348816, 0.7291666865348816, 0.7604166865348816, 0.75, 0.8072916865348816, 0.8098958134651184, 0.7994791865348816, 0.75, 0.8020833134651184, 0.7942708134651184, 0.828125, 0.8619791865348816, 0.8463541865348816, 0.8489583134651184, 0.8177083134651184, 0.8411458134651184, 0.8489583134651184, 0.8463541865348816, 0.8463541865348816, 0.8515625, 0.8489583134651184, 0.8385416865348816, 0.8333333134651184, 0.8359375, 0.8307291865348816, 0.8255208134651184, 0.8307291865348816, 0.828125, 0.8229166865348816, 0.8255208134651184, 0.8203125, 0.8229166865348816, 0.828125, 0.8229166865348816, 0.8255208134651184, 0.8229166865348816, 0.8177083134651184, 0.8203125], 'lr': [1e-04, 1e-04, 1e-04, 1e-04, 1e-04, 1e-04, 1e-04, 1e-04, 1e-04, 1e-04, 1e-04, 1e-04, 1e-04, 1e-04, 1e-04, 1e-04, 1e-04, 1e-04, 1e-04, 1e-04, 1e-04, 1e-04, 2e-05, 2e-05, 2e-05, 2e-05, 2e-05, 2e-05, 2e-05, 4e-06, 4e-06, 4e-06, 4e-06, 4e-06, 1e-06, 1e-06, 1e-06, 1e-06, 1e-06, 1e-06, 1e-06, 1e-06, 1e-06, 1e-06, 1e-06, 1e-06, 1e-06, 1e-06, 1e-06, 1e-06]}\n"
          ]
        }
      ]
    },
    {
      "cell_type": "code",
      "source": [
        "import tensorflow as tf\n",
        "from tensorflow.keras.applications import MobileNetV2\n",
        "from tensorflow.keras.layers import GlobalAveragePooling2D, Dense, Dropout\n",
        "from tensorflow.keras.models import Model\n",
        "from tensorflow.keras.optimizers import Adam\n",
        "from tensorflow.keras.preprocessing.image import ImageDataGenerator\n",
        "from tensorflow.keras.callbacks import ReduceLROnPlateau\n",
        "import numpy as np\n",
        "import matplotlib.pyplot as plt\n",
        "from sklearn.metrics import confusion_matrix, classification_report\n",
        "# 이미지 크기 및 배치 크기 설정\n",
        "img_width, img_height = 224, 224\n",
        "batch_size = 32\n",
        "\n",
        "# 테스트 세트에 대한 평가\n",
        "test_loss, test_acc = model.evaluate(test_generator, steps=test_generator.samples // batch_size)\n",
        "print(f\"Test accuracy: {test_acc:.4f}\")\n",
        "print(f\"Test loss: {test_loss:.4f}\")\n",
        "\n",
        "# Confusion Matrix 생성을 위한 예측\n",
        "test_generator.reset()\n",
        "y_pred = model.predict(test_generator, steps=np.ceil(test_generator.samples / batch_size))\n",
        "y_pred = (y_pred > 0.5).astype(int).flatten()  # 이진 분류에서 임계값 0.5 적용\n",
        "\n",
        "# 실제 레이블 가져오기\n",
        "y_true = test_generator.classes\n",
        "\n",
        "# 예측과 실제 레이블의 길이를 맞추기\n",
        "y_pred = y_pred[:len(y_true)]\n",
        "\n",
        "print(f\"Shape of y_true: {y_true.shape}\")\n",
        "print(f\"Shape of y_pred: {y_pred.shape}\")\n",
        "\n",
        "# Confusion Matrix 계산\n",
        "cm = confusion_matrix(y_true, y_pred)\n",
        "\n",
        "# Confusion Matrix 시각화\n",
        "plt.figure(figsize=(10, 8))\n",
        "plt.imshow(cm, interpolation='nearest', cmap=plt.cm.Blues)\n",
        "plt.title('Confusion Matrix')\n",
        "plt.colorbar()\n",
        "\n",
        "classes = ['Class 0', 'Class 1']\n",
        "tick_marks = np.arange(len(classes))\n",
        "plt.xticks(tick_marks, classes, rotation=45)\n",
        "plt.yticks(tick_marks, classes)\n",
        "\n",
        "plt.xlabel('Predicted label')\n",
        "plt.ylabel('True label')\n",
        "\n",
        "# 각 셀에 숫자 표시\n",
        "thresh = cm.max() / 2.\n",
        "for i, j in np.ndindex(cm.shape):\n",
        "    plt.text(j, i, format(cm[i, j], 'd'),\n",
        "             horizontalalignment=\"center\",\n",
        "             color=\"white\" if cm[i, j] > thresh else \"black\")\n",
        "\n",
        "plt.tight_layout()\n",
        "plt.savefig('confusion_matrix.png')\n",
        "plt.show()\n",
        "\n",
        "# 분류 보고서 출력\n",
        "print(\"\\nClassification Report:\")\n",
        "print(classification_report(y_true, y_pred, target_names=classes))\n",
        "\n",
        "# 학습 결과 출력\n",
        "print(history.history)"
      ],
      "metadata": {
        "colab": {
          "base_uri": "https://localhost:8080/",
          "height": 1000
        },
        "id": "GQa08U8i07OY",
        "outputId": "4a2d742b-66e7-4f31-b410-642e270038fb"
      },
      "execution_count": 5,
      "outputs": [
        {
          "output_type": "stream",
          "name": "stdout",
          "text": [
            "12/12 [==============================] - 3s 251ms/step - loss: 0.6211 - accuracy: 0.8151\n",
            "Test accuracy: 0.8151\n",
            "Test loss: 0.6211\n",
            "13/13 [==============================] - 3s 243ms/step\n",
            "Shape of y_true: (400,)\n",
            "Shape of y_pred: (400,)\n"
          ]
        },
        {
          "output_type": "display_data",
          "data": {
            "text/plain": [
              "<Figure size 1000x800 with 2 Axes>"
            ],
            "image/png": "[encoded data removed]"
          },
          "metadata": {}
        },
        {
          "output_type": "stream",
          "name": "stdout",
          "text": [
            "\n",
            "Classification Report:\n",
            "              precision    recall  f1-score   support\n",
            "\n",
            "     Class 0       0.91      0.71      0.80       200\n",
            "     Class 1       0.76      0.93      0.84       200\n",
            "\n",
            "    accuracy                           0.82       400\n",
            "   macro avg       0.84      0.82      0.82       400\n",
            "weighted avg       0.84      0.82      0.82       400\n",
            "\n",
            "{'loss': [0.6505040526390076, 0.54213947057724, 0.5021506547927856, 0.45973750948905945, 0.432546466588974, 0.4124104082584381, 0.4022182524204254, 0.38112887740135193, 0.36604273319244385, 0.3425300121307373, 0.32046979665756226, 0.3159937262535095, 0.30159875750541687, 0.2779621481895447, 0.26576587557792664, 0.25539615750312805, 0.2640213668346405, 0.22509711980819702, 0.23783621191978455, 0.2383202761411667, 0.21834692358970642, 0.20131468772888184, 0.18315666913986206, 0.15772172808647156, 0.16354422271251678, 0.13078758120536804, 0.13810929656028748, 0.1335221230983734, 0.1289195865392685, 0.13473553955554962, 0.12931279838085175, 0.1285160630941391, 0.12478435039520264, 0.12782485783100128, 0.11856811493635178, 0.12338823825120926, 0.11679816991090775, 0.11720675230026245, 0.1258583664894104, 0.13155169785022736, 0.11409486085176468, 0.11759829521179199, 0.11317357420921326, 0.12476254254579544, 0.11133281141519547, 0.12544602155685425, 0.10979031771421432, 0.1072448343038559, 0.12101168185472488, 0.11067825555801392], 'accuracy': [0.6299999952316284, 0.7219512462615967, 0.757073163986206, 0.790243923664093, 0.7992683053016663, 0.8102439045906067, 0.8229268193244934, 0.8236585259437561, 0.8336585164070129, 0.849756121635437, 0.859268307685852, 0.8629268407821655, 0.8670731782913208, 0.8807317018508911, 0.8829268217086792, 0.8965853452682495, 0.8875609636306763, 0.9090244174003601, 0.8987804651260376, 0.9056097269058228, 0.9080488085746765, 0.9148780703544617, 0.9280487895011902, 0.9351219534873962, 0.9346341490745544, 0.9475609660148621, 0.9439024329185486, 0.9446341395378113, 0.9507316946983337, 0.9456097483634949, 0.947804868221283, 0.9482926726341248, 0.9529268145561218, 0.949999988079071, 0.9539024233818054, 0.9519512057304382, 0.9531707167625427, 0.9514634013175964, 0.9487804770469666, 0.9465853571891785, 0.9543902277946472, 0.9541463255882263, 0.9546341300010681, 0.9485365748405457, 0.9541463255882263, 0.9507316946983337, 0.9604877829551697, 0.9565853476524353, 0.9526829123497009, 0.9585365653038025], 'val_loss': [0.8522670269012451, 1.4655739068984985, 1.3866772651672363, 1.2025331258773804, 1.1173930168151855, 0.7185896039009094, 0.8678019642829895, 0.8427703976631165, 1.0840364694595337, 0.8525054454803467, 0.663213312625885, 0.7526907324790955, 0.6498257517814636, 0.6869733929634094, 0.5970146656036377, 0.5697640776634216, 0.5037541389465332, 0.5424569249153137, 0.5907214879989624, 0.6363530158996582, 0.6261177659034729, 0.6460612416267395, 0.5681633353233337, 0.46623048186302185, 0.5548933148384094, 0.5587910413742065, 0.5937587022781372, 0.5869061350822449, 0.5693473219871521, 0.5809854865074158, 0.5813100337982178, 0.5873679518699646, 0.5729154944419861, 0.6231476664543152, 0.6288079023361206, 0.6237783432006836, 0.6540715098381042, 0.6632108092308044, 0.6312515139579773, 0.6534384489059448, 0.6427467465400696, 0.6690742373466492, 0.6720715165138245, 0.6260773539543152, 0.6592053771018982, 0.678114116191864, 0.6631504893302917, 0.6827173233032227, 0.6457402110099792, 0.665180504322052], 'val_accuracy': [0.5286458134651184, 0.5130208134651184, 0.5364583134651184, 0.5859375, 0.6067708134651184, 0.6927083134651184, 0.7135416865348816, 0.6848958134651184, 0.6614583134651184, 0.6927083134651184, 0.7473958134651184, 0.7395833134651184, 0.7135416865348816, 0.7291666865348816, 0.7604166865348816, 0.75, 0.8072916865348816, 0.8098958134651184, 0.7994791865348816, 0.75, 0.8020833134651184, 0.7942708134651184, 0.828125, 0.8619791865348816, 0.8463541865348816, 0.8489583134651184, 0.8177083134651184, 0.8411458134651184, 0.8489583134651184, 0.8463541865348816, 0.8463541865348816, 0.8515625, 0.8489583134651184, 0.8385416865348816, 0.8333333134651184, 0.8359375, 0.8307291865348816, 0.8255208134651184, 0.8307291865348816, 0.828125, 0.8229166865348816, 0.8255208134651184, 0.8203125, 0.8229166865348816, 0.828125, 0.8229166865348816, 0.8255208134651184, 0.8229166865348816, 0.8177083134651184, 0.8203125], 'lr': [1e-04, 1e-04, 1e-04, 1e-04, 1e-04, 1e-04, 1e-04, 1e-04, 1e-04, 1e-04, 1e-04, 1e-04, 1e-04, 1e-04, 1e-04, 1e-04, 1e-04, 1e-04, 1e-04, 1e-04, 1e-04, 1e-04, 2e-05, 2e-05, 2e-05, 2e-05, 2e-05, 2e-05, 2e-05, 4e-06, 4e-06, 4e-06, 4e-06, 4e-06, 1e-06, 1e-06, 1e-06, 1e-06, 1e-06, 1e-06, 1e-06, 1e-06, 1e-06, 1e-06, 1e-06, 1e-06, 1e-06, 1e-06, 1e-06, 1e-06]}\n"
          ]
        }
      ]
    },
    {
      "cell_type": "code",
      "source": [],
      "metadata": {
        "id": "_BTmKmQCTHB3"
      },
      "execution_count": null,
      "outputs": []
    },
    {
      "cell_type": "markdown",
      "source": [
        "2024.7.28  work end"
      ],
      "metadata": {
        "id": "CZnP-MHWQ_6O"
      }
    },
    {
      "cell_type": "code",
      "source": [
        "import tensorflow as tf\n",
        "from tensorflow.keras.preprocessing.image import ImageDataGenerator\n",
        "from tensorflow.keras.models import Sequential\n",
        "from tensorflow.keras.layers import GaussianNoise, GlobalAveragePooling2D, Dense, BatchNormalization, Dropout\n",
        "from tensorflow.keras import backend as K\n",
        "\n",
        "# 사용자 정의 F1 Score 메트릭 정의\n",
        "def f1_score(y_true, y_pred):\n",
        "    precision = tf.keras.metrics.Precision()(y_true, y_pred)\n",
        "    recall = tf.keras.metrics.Recall()(y_true, y_pred)\n",
        "    return 2 * ((precision * recall) / (precision + recall + K.epsilon()))\n",
        "\n",
        "# 폴더 경로 설정\n",
        "train_set = '/content/drive/MyDrive/Colab Notebooks/MT_240721/train_new'\n",
        "val_set = '/content/drive/MyDrive/Colab Notebooks/MT_240721/val'\n",
        "test_set = '/content/drive/MyDrive/Colab Notebooks/MT_240721/test'\n",
        "\n",
        "# 데이터 정규화\n",
        "train_datagen = ImageDataGenerator(rescale=1./255)\n",
        "validation_datagen = ImageDataGenerator(rescale=1./255)\n",
        "test_datagen = ImageDataGenerator(rescale=1./255)\n",
        "\n",
        "# ... (rest of your code)\n",
        "\n",
        "# 데이터 생성기 설정\n",
        "train_generator = train_datagen.flow_from_directory(\n",
        "    train_set,\n",
        "    target_size=(224, 224),\n",
        "    batch_size=16,\n",
        "    class_mode='binary'  # Change to 'binary' for 2 classes\n",
        ")\n",
        "\n",
        "validation_generator = validation_datagen.flow_from_directory(\n",
        "    val_set,\n",
        "    target_size=(224, 224),\n",
        "    batch_size=16,\n",
        "    shuffle=True,\n",
        "    class_mode='binary'  # Change to 'binary' for 2 classes\n",
        ")\n",
        "\n",
        "test_generator = test_datagen.flow_from_directory(\n",
        "    test_set,\n",
        "    target_size=(224, 224),\n",
        "    batch_size=16,\n",
        "    class_mode='binary'  # Change to 'binary' for 2 classes\n",
        ")\n",
        "\n",
        "\n",
        "# 모델 정의\n",
        "base_model = tf.keras.applications.EfficientNetB3(weights='imagenet', input_shape=(224, 224, 3), include_top=False)\n",
        "\n",
        "for layer in base_model.layers:\n",
        "    layer.trainable = False\n",
        "\n",
        "model = Sequential()\n",
        "model.add(base_model)\n",
        "model.add(GaussianNoise(0.35))\n",
        "model.add(GlobalAveragePooling2D())\n",
        "model.add(Dense(256, activation='relu'))\n",
        "model.add(BatchNormalization())\n",
        "model.add(GaussianNoise(0.35))\n",
        "model.add(Dropout(0.2))\n",
        "model.add(Dense(1, activation='sigmoid'))\n",
        "\n",
        "model.summary()\n",
        "\n",
        "# 모델 컴파일\n",
        "optimizer = Adam(learning_rate=0.01)\n",
        "\n",
        "model.compile(\n",
        "    optimizer=optimizer,\n",
        "    loss='binary_crossentropy',  # Use binary_crossentropy for binary classification\n",
        "    metrics=['accuracy', 'Precision', 'Recall', 'AUC']\n",
        ")\n",
        "\n",
        "\n",
        "# 모델 학습\n",
        "history = model.fit(\n",
        "    train_generator,\n",
        "    epochs=20,\n",
        "    validation_data=validation_generator\n",
        ")\n"
      ],
      "metadata": {
        "colab": {
          "base_uri": "https://localhost:8080/"
        },
        "id": "NTR9GZjOBh1V",
        "outputId": "e1c25004-215c-41e1-8c5f-c8427dff2d84"
      },
      "execution_count": null,
      "outputs": [
        {
          "output_type": "stream",
          "name": "stdout",
          "text": [
            "Found 15782 images belonging to 2 classes.\n",
            "Found 400 images belonging to 2 classes.\n",
            "Found 400 images belonging to 2 classes.\n",
            "Downloading data from https://storage.googleapis.com/keras-applications/efficientnetb3_notop.h5\n",
            "43941136/43941136 [==============================] - 3s 0us/step\n",
            "Model: \"sequential_14\"\n",
            "_________________________________________________________________\n",
            " Layer (type)                Output Shape              Param #   \n",
            "=================================================================\n",
            " efficientnetb3 (Functional  (None, 7, 7, 1536)        10783535  \n",
            " )                                                               \n",
            "                                                                 \n",
            " gaussian_noise_28 (Gaussia  (None, 7, 7, 1536)        0         \n",
            " nNoise)                                                         \n",
            "                                                                 \n",
            " global_average_pooling2d_1  (None, 1536)              0         \n",
            " 4 (GlobalAveragePooling2D)                                      \n",
            "                                                                 \n",
            " dense_28 (Dense)            (None, 256)               393472    \n",
            "                                                                 \n",
            " batch_normalization_14 (Ba  (None, 256)               1024      \n",
            " tchNormalization)                                               \n",
            "                                                                 \n",
            " gaussian_noise_29 (Gaussia  (None, 256)               0         \n",
            " nNoise)                                                         \n",
            "                                                                 \n",
            " dropout_14 (Dropout)        (None, 256)               0         \n",
            "                                                                 \n",
            " dense_29 (Dense)            (None, 1)                 257       \n",
            "                                                                 \n",
            "=================================================================\n",
            "Total params: 11178288 (42.64 MB)\n",
            "Trainable params: 394241 (1.50 MB)\n",
            "Non-trainable params: 10784047 (41.14 MB)\n",
            "_________________________________________________________________\n",
            "Epoch 1/20\n",
            "987/987 [==============================] - 198s 189ms/step - loss: 0.7361 - accuracy: 0.5084 - precision: 0.4645 - recall: 0.3948 - auc: 0.5038 - val_loss: 0.6939 - val_accuracy: 0.5000 - val_precision: 0.5000 - val_recall: 1.0000 - val_auc: 0.5487\n",
            "Epoch 2/20\n",
            "987/987 [==============================] - 114s 116ms/step - loss: 0.7219 - accuracy: 0.5099 - precision: 0.4655 - recall: 0.3850 - auc: 0.5012 - val_loss: 0.6971 - val_accuracy: 0.5000 - val_precision: 0.0000e+00 - val_recall: 0.0000e+00 - val_auc: 0.5100\n",
            "Epoch 3/20\n",
            "987/987 [==============================] - 111s 113ms/step - loss: 0.7224 - accuracy: 0.5049 - precision: 0.4585 - recall: 0.3754 - auc: 0.4983 - val_loss: 0.7148 - val_accuracy: 0.5000 - val_precision: 0.0000e+00 - val_recall: 0.0000e+00 - val_auc: 0.5316\n",
            "Epoch 4/20\n",
            "987/987 [==============================] - 115s 117ms/step - loss: 0.7253 - accuracy: 0.5061 - precision: 0.4606 - recall: 0.3808 - auc: 0.4946 - val_loss: 0.7062 - val_accuracy: 0.5000 - val_precision: 0.0000e+00 - val_recall: 0.0000e+00 - val_auc: 0.4807\n",
            "Epoch 5/20\n",
            "987/987 [==============================] - 111s 113ms/step - loss: 0.7258 - accuracy: 0.5039 - precision: 0.4580 - recall: 0.3819 - auc: 0.4962 - val_loss: 0.6976 - val_accuracy: 0.4925 - val_precision: 0.4960 - val_recall: 0.9200 - val_auc: 0.5329\n",
            "Epoch 6/20\n",
            "987/987 [==============================] - 111s 112ms/step - loss: 0.7246 - accuracy: 0.5067 - precision: 0.4617 - recall: 0.3865 - auc: 0.4975 - val_loss: 0.6941 - val_accuracy: 0.5250 - val_precision: 0.5500 - val_recall: 0.2750 - val_auc: 0.5347\n",
            "Epoch 7/20\n",
            "987/987 [==============================] - 112s 114ms/step - loss: 0.7259 - accuracy: 0.5081 - precision: 0.4632 - recall: 0.3836 - auc: 0.5002 - val_loss: 0.6957 - val_accuracy: 0.5000 - val_precision: 0.0000e+00 - val_recall: 0.0000e+00 - val_auc: 0.4721\n",
            "Epoch 8/20\n",
            "987/987 [==============================] - 110s 112ms/step - loss: 0.7265 - accuracy: 0.5099 - precision: 0.4657 - recall: 0.3875 - auc: 0.4977 - val_loss: 0.6947 - val_accuracy: 0.5000 - val_precision: 0.0000e+00 - val_recall: 0.0000e+00 - val_auc: 0.5323\n",
            "Epoch 9/20\n",
            "987/987 [==============================] - 111s 112ms/step - loss: 0.7230 - accuracy: 0.5158 - precision: 0.4737 - recall: 0.3985 - auc: 0.5093 - val_loss: 0.7113 - val_accuracy: 0.5000 - val_precision: 0.0000e+00 - val_recall: 0.0000e+00 - val_auc: 0.5293\n",
            "Epoch 10/20\n",
            "987/987 [==============================] - 112s 114ms/step - loss: 0.7251 - accuracy: 0.5096 - precision: 0.4657 - recall: 0.3914 - auc: 0.5035 - val_loss: 0.6969 - val_accuracy: 0.5000 - val_precision: 0.0000e+00 - val_recall: 0.0000e+00 - val_auc: 0.5303\n",
            "Epoch 11/20\n",
            "987/987 [==============================] - 111s 112ms/step - loss: 0.7244 - accuracy: 0.5102 - precision: 0.4663 - recall: 0.3906 - auc: 0.5028 - val_loss: 0.6938 - val_accuracy: 0.5000 - val_precision: 0.0000e+00 - val_recall: 0.0000e+00 - val_auc: 0.5360\n",
            "Epoch 12/20\n",
            "987/987 [==============================] - 108s 109ms/step - loss: 0.7260 - accuracy: 0.5081 - precision: 0.4634 - recall: 0.3855 - auc: 0.4988 - val_loss: 0.6947 - val_accuracy: 0.5000 - val_precision: 0.0000e+00 - val_recall: 0.0000e+00 - val_auc: 0.5346\n",
            "Epoch 13/20\n",
            "987/987 [==============================] - 113s 115ms/step - loss: 0.7239 - accuracy: 0.5108 - precision: 0.4670 - recall: 0.3901 - auc: 0.5050 - val_loss: 0.7094 - val_accuracy: 0.4950 - val_precision: 0.4975 - val_recall: 0.9900 - val_auc: 0.5322\n",
            "Epoch 14/20\n",
            "987/987 [==============================] - 111s 112ms/step - loss: 0.7267 - accuracy: 0.5084 - precision: 0.4639 - recall: 0.3869 - auc: 0.5000 - val_loss: 0.6933 - val_accuracy: 0.5350 - val_precision: 0.5315 - val_recall: 0.5900 - val_auc: 0.5381\n",
            "Epoch 15/20\n",
            "987/987 [==============================] - 107s 108ms/step - loss: 0.7262 - accuracy: 0.5101 - precision: 0.4658 - recall: 0.3850 - auc: 0.5001 - val_loss: 0.6931 - val_accuracy: 0.5350 - val_precision: 0.5729 - val_recall: 0.2750 - val_auc: 0.4945\n",
            "Epoch 16/20\n",
            "987/987 [==============================] - 111s 113ms/step - loss: 0.7237 - accuracy: 0.5134 - precision: 0.4706 - recall: 0.3961 - auc: 0.5070 - val_loss: 0.6967 - val_accuracy: 0.4825 - val_precision: 0.4892 - val_recall: 0.7950 - val_auc: 0.5364\n",
            "Epoch 17/20\n",
            "987/987 [==============================] - 110s 112ms/step - loss: 0.7230 - accuracy: 0.5117 - precision: 0.4680 - recall: 0.3901 - auc: 0.5080 - val_loss: 0.6930 - val_accuracy: 0.5550 - val_precision: 0.5561 - val_recall: 0.5450 - val_auc: 0.5381\n",
            "Epoch 18/20\n",
            "987/987 [==============================] - 115s 116ms/step - loss: 0.7248 - accuracy: 0.5115 - precision: 0.4680 - recall: 0.3924 - auc: 0.5049 - val_loss: 0.7101 - val_accuracy: 0.5000 - val_precision: 0.0000e+00 - val_recall: 0.0000e+00 - val_auc: 0.4953\n",
            "Epoch 19/20\n",
            "987/987 [==============================] - 112s 113ms/step - loss: 0.7260 - accuracy: 0.5077 - precision: 0.4625 - recall: 0.3819 - auc: 0.4983 - val_loss: 0.7038 - val_accuracy: 0.5025 - val_precision: 1.0000 - val_recall: 0.0050 - val_auc: 0.4634\n",
            "Epoch 20/20\n",
            "987/987 [==============================] - 111s 112ms/step - loss: 0.7251 - accuracy: 0.5074 - precision: 0.4626 - recall: 0.3861 - auc: 0.5023 - val_loss: 0.6932 - val_accuracy: 0.4975 - val_precision: 0.4986 - val_recall: 0.8900 - val_auc: 0.5256\n"
          ]
        }
      ]
    },
    {
      "cell_type": "markdown",
      "source": [
        "\n",
        "##Model evaluation"
      ],
      "metadata": {
        "id": "ftSfSbxR0g0y"
      }
    },
    {
      "cell_type": "code",
      "source": [
        "model.evaluate(train_generator)"
      ],
      "metadata": {
        "id": "pz9s0pP00hf_",
        "colab": {
          "base_uri": "https://localhost:8080/"
        },
        "outputId": "a938903d-3de1-4ff0-a9f8-82e8d22054dc"
      },
      "execution_count": null,
      "outputs": [
        {
          "output_type": "stream",
          "name": "stdout",
          "text": [
            "987/987 [==============================] - 108s 109ms/step - loss: 0.6941 - accuracy: 0.4831 - precision: 0.4700 - recall: 0.9013 - auc: 0.5386\n"
          ]
        },
        {
          "output_type": "execute_result",
          "data": {
            "text/plain": [
              "[0.6941485404968262,\n",
              " 0.48308199644088745,\n",
              " 0.47003063559532166,\n",
              " 0.9013257026672363,\n",
              " 0.5386248826980591]"
            ]
          },
          "metadata": {},
          "execution_count": 38
        }
      ]
    },
    {
      "cell_type": "code",
      "source": [
        "model.evaluate(validation_generator)"
      ],
      "metadata": {
        "colab": {
          "base_uri": "https://localhost:8080/"
        },
        "id": "W-7qWXpj0lyW",
        "outputId": "f9c370a7-f792-467d-90cb-e66cbd918ac7"
      },
      "execution_count": null,
      "outputs": [
        {
          "output_type": "stream",
          "name": "stdout",
          "text": [
            "25/25 [==============================] - 3s 137ms/step - loss: 0.6932 - accuracy: 0.4975 - precision: 0.4986 - recall: 0.8900 - auc: 0.5256\n"
          ]
        },
        {
          "output_type": "execute_result",
          "data": {
            "text/plain": [
              "[0.6931976079940796,\n",
              " 0.4975000023841858,\n",
              " 0.49859943985939026,\n",
              " 0.8899999856948853,\n",
              " 0.5256375074386597]"
            ]
          },
          "metadata": {},
          "execution_count": 39
        }
      ]
    },
    {
      "cell_type": "code",
      "source": [
        "model.evaluate(test_generator)"
      ],
      "metadata": {
        "colab": {
          "base_uri": "https://localhost:8080/"
        },
        "id": "NSlcjOFK0qvp",
        "outputId": "8c1cccc9-8926-4ac7-9120-1360fb173b5f"
      },
      "execution_count": null,
      "outputs": [
        {
          "output_type": "stream",
          "name": "stdout",
          "text": [
            "25/25 [==============================] - 3s 133ms/step - loss: 0.6918 - accuracy: 0.4975 - precision: 0.4986 - recall: 0.9100 - auc: 0.5751\n"
          ]
        },
        {
          "output_type": "execute_result",
          "data": {
            "text/plain": [
              "[0.6917821764945984,\n",
              " 0.4975000023841858,\n",
              " 0.4986301362514496,\n",
              " 0.9100000262260437,\n",
              " 0.5751124620437622]"
            ]
          },
          "metadata": {},
          "execution_count": 40
        }
      ]
    },
    {
      "cell_type": "markdown",
      "source": [
        "**Performance Plots**"
      ],
      "metadata": {
        "id": "7-ZMmyTe0oEz"
      }
    },
    {
      "cell_type": "markdown",
      "source": [
        "**Learning curve**"
      ],
      "metadata": {
        "id": "gpsJCkXp3GWq"
      }
    },
    {
      "cell_type": "code",
      "source": [
        "import matplotlib.pyplot as plt\n",
        "plt.figure(figsize=(8, 8))\n",
        "plt.title(\"Learning curve\")\n",
        "plt.plot(history.history[\"accuracy\"], label=\"accuracy\")\n",
        "plt.plot(history.history[\"loss\"], label=\"training loss\")\n",
        "plt.plot(history.history[\"val_loss\"], label=\"val_loss\")\n",
        "plt.plot( np.argmin(history.history[\"val_loss\"]), np.min(history.history[\"val_loss\"]), marker=\"x\", color=\"r\", label=\"best model\")\n",
        "plt.xlabel(\"Epochs\")\n",
        "plt.ylabel(\"value (log scale)\")\n",
        "plt.legend()"
      ],
      "metadata": {
        "colab": {
          "base_uri": "https://localhost:8080/",
          "height": 736
        },
        "id": "MVDrSSSa0suN",
        "outputId": "489a0c61-96ae-451f-bae9-54e64131ece9"
      },
      "execution_count": 6,
      "outputs": [
        {
          "output_type": "execute_result",
          "data": {
            "text/plain": [
              "<matplotlib.legend.Legend at 0x7a74390b6980>"
            ]
          },
          "metadata": {},
          "execution_count": 6
        },
        {
          "output_type": "display_data",
          "data": {
            "text/plain": [
              "<Figure size 800x800 with 1 Axes>"
            ],
            "image/png": "[encoded data removed]"
          },
          "metadata": {}
        }
      ]
    },
    {
      "cell_type": "markdown",
      "source": [
        "**Precision plot**"
      ],
      "metadata": {
        "id": "PMchrBIX3Hik"
      }
    },
    {
      "cell_type": "code",
      "source": [
        "plt.figure(figsize=(8, 8))\n",
        "plt.title(\"Learning curve\")\n",
        "plt.plot(history.history[\"precision\"], label=\"accuracy\")\n",
        "plt.plot(history.history[\"val_precision\"], label=\"val_loss\")\n",
        "plt.plot( np.argmin(history.history[\"val_precision\"]), np.min(history.history[\"val_precision\"]), marker=\"x\", color=\"r\", label=\"best model\")\n",
        "plt.xlabel(\"Epochs\")\n",
        "plt.ylabel(\"value (log scale)\")\n",
        "plt.legend();"
      ],
      "metadata": {
        "colab": {
          "base_uri": "https://localhost:8080/",
          "height": 903
        },
        "id": "_SgAjGms291k",
        "outputId": "4468060a-2040-4c80-cd52-759c0b6d8346"
      },
      "execution_count": 7,
      "outputs": [
        {
          "output_type": "error",
          "ename": "KeyError",
          "evalue": "'precision'",
          "traceback": [
            "\u001b[0;31m---------------------------------------------------------------------------\u001b[0m",
            "\u001b[0;31mKeyError\u001b[0m                                  Traceback (most recent call last)",
            "\u001b[0;32m<ipython-input-7-9f627f3b890f>\u001b[0m in \u001b[0;36m<cell line: 3>\u001b[0;34m()\u001b[0m\n\u001b[1;32m      1\u001b[0m \u001b[0mplt\u001b[0m\u001b[0;34m.\u001b[0m\u001b[0mfigure\u001b[0m\u001b[0;34m(\u001b[0m\u001b[0mfigsize\u001b[0m\u001b[0;34m=\u001b[0m\u001b[0;34m(\u001b[0m\u001b[0;36m8\u001b[0m\u001b[0;34m,\u001b[0m \u001b[0;36m8\u001b[0m\u001b[0;34m)\u001b[0m\u001b[0;34m)\u001b[0m\u001b[0;34m\u001b[0m\u001b[0;34m\u001b[0m\u001b[0m\n\u001b[1;32m      2\u001b[0m \u001b[0mplt\u001b[0m\u001b[0;34m.\u001b[0m\u001b[0mtitle\u001b[0m\u001b[0;34m(\u001b[0m\u001b[0;34m\"Learning curve\"\u001b[0m\u001b[0;34m)\u001b[0m\u001b[0;34m\u001b[0m\u001b[0;34m\u001b[0m\u001b[0m\n\u001b[0;32m----> 3\u001b[0;31m \u001b[0mplt\u001b[0m\u001b[0;34m.\u001b[0m\u001b[0mplot\u001b[0m\u001b[0;34m(\u001b[0m\u001b[0mhistory\u001b[0m\u001b[0;34m.\u001b[0m\u001b[0mhistory\u001b[0m\u001b[0;34m[\u001b[0m\u001b[0;34m\"precision\"\u001b[0m\u001b[0;34m]\u001b[0m\u001b[0;34m,\u001b[0m \u001b[0mlabel\u001b[0m\u001b[0;34m=\u001b[0m\u001b[0;34m\"accuracy\"\u001b[0m\u001b[0;34m)\u001b[0m\u001b[0;34m\u001b[0m\u001b[0;34m\u001b[0m\u001b[0m\n\u001b[0m\u001b[1;32m      4\u001b[0m \u001b[0mplt\u001b[0m\u001b[0;34m.\u001b[0m\u001b[0mplot\u001b[0m\u001b[0;34m(\u001b[0m\u001b[0mhistory\u001b[0m\u001b[0;34m.\u001b[0m\u001b[0mhistory\u001b[0m\u001b[0;34m[\u001b[0m\u001b[0;34m\"val_precision\"\u001b[0m\u001b[0;34m]\u001b[0m\u001b[0;34m,\u001b[0m \u001b[0mlabel\u001b[0m\u001b[0;34m=\u001b[0m\u001b[0;34m\"val_loss\"\u001b[0m\u001b[0;34m)\u001b[0m\u001b[0;34m\u001b[0m\u001b[0;34m\u001b[0m\u001b[0m\n\u001b[1;32m      5\u001b[0m \u001b[0mplt\u001b[0m\u001b[0;34m.\u001b[0m\u001b[0mplot\u001b[0m\u001b[0;34m(\u001b[0m \u001b[0mnp\u001b[0m\u001b[0;34m.\u001b[0m\u001b[0margmin\u001b[0m\u001b[0;34m(\u001b[0m\u001b[0mhistory\u001b[0m\u001b[0;34m.\u001b[0m\u001b[0mhistory\u001b[0m\u001b[0;34m[\u001b[0m\u001b[0;34m\"val_precision\"\u001b[0m\u001b[0;34m]\u001b[0m\u001b[0;34m)\u001b[0m\u001b[0;34m,\u001b[0m \u001b[0mnp\u001b[0m\u001b[0;34m.\u001b[0m\u001b[0mmin\u001b[0m\u001b[0;34m(\u001b[0m\u001b[0mhistory\u001b[0m\u001b[0;34m.\u001b[0m\u001b[0mhistory\u001b[0m\u001b[0;34m[\u001b[0m\u001b[0;34m\"val_precision\"\u001b[0m\u001b[0;34m]\u001b[0m\u001b[0;34m)\u001b[0m\u001b[0;34m,\u001b[0m \u001b[0mmarker\u001b[0m\u001b[0;34m=\u001b[0m\u001b[0;34m\"x\"\u001b[0m\u001b[0;34m,\u001b[0m \u001b[0mcolor\u001b[0m\u001b[0;34m=\u001b[0m\u001b[0;34m\"r\"\u001b[0m\u001b[0;34m,\u001b[0m \u001b[0mlabel\u001b[0m\u001b[0;34m=\u001b[0m\u001b[0;34m\"best model\"\u001b[0m\u001b[0;34m)\u001b[0m\u001b[0;34m\u001b[0m\u001b[0;34m\u001b[0m\u001b[0m\n",
            "\u001b[0;31mKeyError\u001b[0m: 'precision'"
          ]
        },
        {
          "output_type": "display_data",
          "data": {
            "text/plain": [
              "<Figure size 800x800 with 1 Axes>"
            ],
            "image/png": "[encoded data removed]"
          },
          "metadata": {}
        }
      ]
    },
    {
      "cell_type": "markdown",
      "source": [
        "**Recall plot**"
      ],
      "metadata": {
        "id": "Mlivlmua3Q-A"
      }
    },
    {
      "cell_type": "code",
      "source": [
        "plt.figure(figsize=(8, 8))\n",
        "plt.title(\"Learning curve\")\n",
        "plt.plot(history.history[\"precision\"], label=\"accuracy\")\n",
        "plt.plot(history.history[\"val_precision\"], label=\"val_loss\")\n",
        "plt.plot( np.argmin(history.history[\"val_precision\"]), np.min(history.history[\"val_precision\"]), marker=\"x\", color=\"r\", label=\"best model\")\n",
        "plt.xlabel(\"Epochs\")\n",
        "plt.ylabel(\"value (log scale)\")\n",
        "plt.legend();"
      ],
      "metadata": {
        "colab": {
          "base_uri": "https://localhost:8080/",
          "height": 903
        },
        "id": "pyr9n7O129eg",
        "outputId": "14d2b012-b670-414c-fd9f-da91bde7c340"
      },
      "execution_count": 8,
      "outputs": [
        {
          "output_type": "error",
          "ename": "KeyError",
          "evalue": "'precision'",
          "traceback": [
            "\u001b[0;31m---------------------------------------------------------------------------\u001b[0m",
            "\u001b[0;31mKeyError\u001b[0m                                  Traceback (most recent call last)",
            "\u001b[0;32m<ipython-input-8-9f627f3b890f>\u001b[0m in \u001b[0;36m<cell line: 3>\u001b[0;34m()\u001b[0m\n\u001b[1;32m      1\u001b[0m \u001b[0mplt\u001b[0m\u001b[0;34m.\u001b[0m\u001b[0mfigure\u001b[0m\u001b[0;34m(\u001b[0m\u001b[0mfigsize\u001b[0m\u001b[0;34m=\u001b[0m\u001b[0;34m(\u001b[0m\u001b[0;36m8\u001b[0m\u001b[0;34m,\u001b[0m \u001b[0;36m8\u001b[0m\u001b[0;34m)\u001b[0m\u001b[0;34m)\u001b[0m\u001b[0;34m\u001b[0m\u001b[0;34m\u001b[0m\u001b[0m\n\u001b[1;32m      2\u001b[0m \u001b[0mplt\u001b[0m\u001b[0;34m.\u001b[0m\u001b[0mtitle\u001b[0m\u001b[0;34m(\u001b[0m\u001b[0;34m\"Learning curve\"\u001b[0m\u001b[0;34m)\u001b[0m\u001b[0;34m\u001b[0m\u001b[0;34m\u001b[0m\u001b[0m\n\u001b[0;32m----> 3\u001b[0;31m \u001b[0mplt\u001b[0m\u001b[0;34m.\u001b[0m\u001b[0mplot\u001b[0m\u001b[0;34m(\u001b[0m\u001b[0mhistory\u001b[0m\u001b[0;34m.\u001b[0m\u001b[0mhistory\u001b[0m\u001b[0;34m[\u001b[0m\u001b[0;34m\"precision\"\u001b[0m\u001b[0;34m]\u001b[0m\u001b[0;34m,\u001b[0m \u001b[0mlabel\u001b[0m\u001b[0;34m=\u001b[0m\u001b[0;34m\"accuracy\"\u001b[0m\u001b[0;34m)\u001b[0m\u001b[0;34m\u001b[0m\u001b[0;34m\u001b[0m\u001b[0m\n\u001b[0m\u001b[1;32m      4\u001b[0m \u001b[0mplt\u001b[0m\u001b[0;34m.\u001b[0m\u001b[0mplot\u001b[0m\u001b[0;34m(\u001b[0m\u001b[0mhistory\u001b[0m\u001b[0;34m.\u001b[0m\u001b[0mhistory\u001b[0m\u001b[0;34m[\u001b[0m\u001b[0;34m\"val_precision\"\u001b[0m\u001b[0;34m]\u001b[0m\u001b[0;34m,\u001b[0m \u001b[0mlabel\u001b[0m\u001b[0;34m=\u001b[0m\u001b[0;34m\"val_loss\"\u001b[0m\u001b[0;34m)\u001b[0m\u001b[0;34m\u001b[0m\u001b[0;34m\u001b[0m\u001b[0m\n\u001b[1;32m      5\u001b[0m \u001b[0mplt\u001b[0m\u001b[0;34m.\u001b[0m\u001b[0mplot\u001b[0m\u001b[0;34m(\u001b[0m \u001b[0mnp\u001b[0m\u001b[0;34m.\u001b[0m\u001b[0margmin\u001b[0m\u001b[0;34m(\u001b[0m\u001b[0mhistory\u001b[0m\u001b[0;34m.\u001b[0m\u001b[0mhistory\u001b[0m\u001b[0;34m[\u001b[0m\u001b[0;34m\"val_precision\"\u001b[0m\u001b[0;34m]\u001b[0m\u001b[0;34m)\u001b[0m\u001b[0;34m,\u001b[0m \u001b[0mnp\u001b[0m\u001b[0;34m.\u001b[0m\u001b[0mmin\u001b[0m\u001b[0;34m(\u001b[0m\u001b[0mhistory\u001b[0m\u001b[0;34m.\u001b[0m\u001b[0mhistory\u001b[0m\u001b[0;34m[\u001b[0m\u001b[0;34m\"val_precision\"\u001b[0m\u001b[0;34m]\u001b[0m\u001b[0;34m)\u001b[0m\u001b[0;34m,\u001b[0m \u001b[0mmarker\u001b[0m\u001b[0;34m=\u001b[0m\u001b[0;34m\"x\"\u001b[0m\u001b[0;34m,\u001b[0m \u001b[0mcolor\u001b[0m\u001b[0;34m=\u001b[0m\u001b[0;34m\"r\"\u001b[0m\u001b[0;34m,\u001b[0m \u001b[0mlabel\u001b[0m\u001b[0;34m=\u001b[0m\u001b[0;34m\"best model\"\u001b[0m\u001b[0;34m)\u001b[0m\u001b[0;34m\u001b[0m\u001b[0;34m\u001b[0m\u001b[0m\n",
            "\u001b[0;31mKeyError\u001b[0m: 'precision'"
          ]
        },
        {
          "output_type": "display_data",
          "data": {
            "text/plain": [
              "<Figure size 800x800 with 1 Axes>"
            ],
            "image/png": "[encoded data removed]"
          },
          "metadata": {}
        }
      ]
    },
    {
      "cell_type": "markdown",
      "source": [
        "**AUC plot**"
      ],
      "metadata": {
        "id": "VmjgxN7i3RT9"
      }
    },
    {
      "cell_type": "code",
      "source": [
        "plt.figure(figsize=(8, 8))\n",
        "plt.title(\"Learning curve\")\n",
        "plt.plot(history.history[\"precision\"], label=\"accuracy\")\n",
        "plt.plot(history.history[\"val_precision\"], label=\"val_loss\")\n",
        "plt.plot( np.argmin(history.history[\"val_precision\"]), np.min(history.history[\"val_precision\"]), marker=\"x\", color=\"r\", label=\"best model\")\n",
        "plt.xlabel(\"Epochs\")\n",
        "plt.ylabel(\"value (log scale)\")\n",
        "plt.legend();"
      ],
      "metadata": {
        "colab": {
          "base_uri": "https://localhost:8080/",
          "height": 903
        },
        "id": "z3HK7B1x3Cvg",
        "outputId": "602e9097-0eea-408f-9a8b-7d9ea1a976f4"
      },
      "execution_count": 9,
      "outputs": [
        {
          "output_type": "error",
          "ename": "KeyError",
          "evalue": "'precision'",
          "traceback": [
            "\u001b[0;31m---------------------------------------------------------------------------\u001b[0m",
            "\u001b[0;31mKeyError\u001b[0m                                  Traceback (most recent call last)",
            "\u001b[0;32m<ipython-input-9-9f627f3b890f>\u001b[0m in \u001b[0;36m<cell line: 3>\u001b[0;34m()\u001b[0m\n\u001b[1;32m      1\u001b[0m \u001b[0mplt\u001b[0m\u001b[0;34m.\u001b[0m\u001b[0mfigure\u001b[0m\u001b[0;34m(\u001b[0m\u001b[0mfigsize\u001b[0m\u001b[0;34m=\u001b[0m\u001b[0;34m(\u001b[0m\u001b[0;36m8\u001b[0m\u001b[0;34m,\u001b[0m \u001b[0;36m8\u001b[0m\u001b[0;34m)\u001b[0m\u001b[0;34m)\u001b[0m\u001b[0;34m\u001b[0m\u001b[0;34m\u001b[0m\u001b[0m\n\u001b[1;32m      2\u001b[0m \u001b[0mplt\u001b[0m\u001b[0;34m.\u001b[0m\u001b[0mtitle\u001b[0m\u001b[0;34m(\u001b[0m\u001b[0;34m\"Learning curve\"\u001b[0m\u001b[0;34m)\u001b[0m\u001b[0;34m\u001b[0m\u001b[0;34m\u001b[0m\u001b[0m\n\u001b[0;32m----> 3\u001b[0;31m \u001b[0mplt\u001b[0m\u001b[0;34m.\u001b[0m\u001b[0mplot\u001b[0m\u001b[0;34m(\u001b[0m\u001b[0mhistory\u001b[0m\u001b[0;34m.\u001b[0m\u001b[0mhistory\u001b[0m\u001b[0;34m[\u001b[0m\u001b[0;34m\"precision\"\u001b[0m\u001b[0;34m]\u001b[0m\u001b[0;34m,\u001b[0m \u001b[0mlabel\u001b[0m\u001b[0;34m=\u001b[0m\u001b[0;34m\"accuracy\"\u001b[0m\u001b[0;34m)\u001b[0m\u001b[0;34m\u001b[0m\u001b[0;34m\u001b[0m\u001b[0m\n\u001b[0m\u001b[1;32m      4\u001b[0m \u001b[0mplt\u001b[0m\u001b[0;34m.\u001b[0m\u001b[0mplot\u001b[0m\u001b[0;34m(\u001b[0m\u001b[0mhistory\u001b[0m\u001b[0;34m.\u001b[0m\u001b[0mhistory\u001b[0m\u001b[0;34m[\u001b[0m\u001b[0;34m\"val_precision\"\u001b[0m\u001b[0;34m]\u001b[0m\u001b[0;34m,\u001b[0m \u001b[0mlabel\u001b[0m\u001b[0;34m=\u001b[0m\u001b[0;34m\"val_loss\"\u001b[0m\u001b[0;34m)\u001b[0m\u001b[0;34m\u001b[0m\u001b[0;34m\u001b[0m\u001b[0m\n\u001b[1;32m      5\u001b[0m \u001b[0mplt\u001b[0m\u001b[0;34m.\u001b[0m\u001b[0mplot\u001b[0m\u001b[0;34m(\u001b[0m \u001b[0mnp\u001b[0m\u001b[0;34m.\u001b[0m\u001b[0margmin\u001b[0m\u001b[0;34m(\u001b[0m\u001b[0mhistory\u001b[0m\u001b[0;34m.\u001b[0m\u001b[0mhistory\u001b[0m\u001b[0;34m[\u001b[0m\u001b[0;34m\"val_precision\"\u001b[0m\u001b[0;34m]\u001b[0m\u001b[0;34m)\u001b[0m\u001b[0;34m,\u001b[0m \u001b[0mnp\u001b[0m\u001b[0;34m.\u001b[0m\u001b[0mmin\u001b[0m\u001b[0;34m(\u001b[0m\u001b[0mhistory\u001b[0m\u001b[0;34m.\u001b[0m\u001b[0mhistory\u001b[0m\u001b[0;34m[\u001b[0m\u001b[0;34m\"val_precision\"\u001b[0m\u001b[0;34m]\u001b[0m\u001b[0;34m)\u001b[0m\u001b[0;34m,\u001b[0m \u001b[0mmarker\u001b[0m\u001b[0;34m=\u001b[0m\u001b[0;34m\"x\"\u001b[0m\u001b[0;34m,\u001b[0m \u001b[0mcolor\u001b[0m\u001b[0;34m=\u001b[0m\u001b[0;34m\"r\"\u001b[0m\u001b[0;34m,\u001b[0m \u001b[0mlabel\u001b[0m\u001b[0;34m=\u001b[0m\u001b[0;34m\"best model\"\u001b[0m\u001b[0;34m)\u001b[0m\u001b[0;34m\u001b[0m\u001b[0;34m\u001b[0m\u001b[0m\n",
            "\u001b[0;31mKeyError\u001b[0m: 'precision'"
          ]
        },
        {
          "output_type": "display_data",
          "data": {
            "text/plain": [
              "<Figure size 800x800 with 1 Axes>"
            ],
            "image/png": "[encoded data removed]"
          },
          "metadata": {}
        }
      ]
    },
    {
      "cell_type": "markdown",
      "source": [
        "# Model prediction\n"
      ],
      "metadata": {
        "id": "TZb-Zwxo3f9G"
      }
    },
    {
      "cell_type": "code",
      "source": [
        "from keras.preprocessing import image\n",
        "img = image.load_img('../input/curated-colon-dataset-for-deep-learning/test/0_normal/test_normal_ (1).jpg',target_size=(224,224))\n",
        "imag = image.img_to_array(img)\n",
        "imaga = np.expand_dims(imag,axis=0)\n",
        "ypred = model.predict(imaga)\n",
        "print(ypred)\n",
        "a=np.argmax(ypred,-1)\n",
        "if a==0:\n",
        "    op=\"malignancy\"\n",
        "elif a==1:\n",
        "    op=\"Benign\"\n",
        "\n",
        "\n",
        "plt.imshow(img)\n",
        "print(\"THE UPLOADED IMAGE SEEMS TO BE: \"+str(op))\n"
      ],
      "metadata": {
        "id": "Vqmy8FaE3i3B"
      },
      "execution_count": null,
      "outputs": []
    },
    {
      "source": [
        "model.save('/content/drive/MyDrive/Colab Notebooks/MT_project/my_model240728.h5')"
      ],
      "cell_type": "code",
      "metadata": {
        "id": "UV4XrvUlF3Ps",
        "colab": {
          "base_uri": "https://localhost:8080/"
        },
        "outputId": "b7aea48b-2052-49f6-f63d-864820e20d23"
      },
      "execution_count": 10,
      "outputs": [
        {
          "output_type": "stream",
          "name": "stderr",
          "text": [
            "/usr/local/lib/python3.10/dist-packages/keras/src/engine/training.py:3103: UserWarning: You are saving your model as an HDF5 file via `model.save()`. This file format is considered legacy. We recommend using instead the native Keras format, e.g. `model.save('my_model.keras')`.\n",
            "  saving_api.save_model(\n"
          ]
        }
      ]
    },
    {
      "source": [
        "model.save('/content/drive/MyDrive/Colab Notebooks/MT_project/my_model.keras')"
      ],
      "cell_type": "code",
      "metadata": {
        "id": "iDopxZ5XGEtW"
      },
      "execution_count": null,
      "outputs": []
    },
    {
      "source": [
        "from tensorflow.keras.models import load_model\n",
        "\n",
        "loaded_model = load_model('my_model.keras')"
      ],
      "cell_type": "code",
      "metadata": {
        "id": "egtp0d00F4VJ"
      },
      "execution_count": null,
      "outputs": []
    }
  ]
}